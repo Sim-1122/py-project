{
 "cells": [
  {
   "cell_type": "markdown",
   "id": "572e473a",
   "metadata": {},
   "source": [
    "### 2020136078 심재규\n",
    "### 스크립트프로그래밍 Homework #2\n",
    "### [일반문제]\n",
    "### 1. 다음 6 개의 Expression에 대해 Evaluation 결과 값을 출력하고, 해당 결과가 나온 이유에 대해 설명하시오\n",
    "- 1 and 2 and 3 and 4\n",
    "- 1 or 2 or 3 or 4\n",
    "- 1 and 2 or 3 and 4\n",
    "- (1 and 2) or (3 and 4)\n",
    "- 1 or 2 and 3 or 4\n",
    "- (1 or 2) and (3 or 4)"
   ]
  },
  {
   "cell_type": "code",
   "execution_count": 1,
   "id": "b56687ca",
   "metadata": {
    "scrolled": true
   },
   "outputs": [
    {
     "data": {
      "text/plain": [
       "4"
      ]
     },
     "execution_count": 1,
     "metadata": {},
     "output_type": "execute_result"
    }
   ],
   "source": [
    "1 and 2 and 3 and 4"
   ]
  },
  {
   "cell_type": "markdown",
   "id": "fcdb9d49",
   "metadata": {},
   "source": [
    "and 연산의 경우 마지막에 false가 오는지 확인해야 하기 때문에 4까지 확인 후 4를 리턴한다."
   ]
  },
  {
   "cell_type": "code",
   "execution_count": 2,
   "id": "b341faf3",
   "metadata": {
    "scrolled": true
   },
   "outputs": [
    {
     "data": {
      "text/plain": [
       "1"
      ]
     },
     "execution_count": 2,
     "metadata": {},
     "output_type": "execute_result"
    }
   ],
   "source": [
    "1 or 2 or 3 or 4"
   ]
  },
  {
   "cell_type": "markdown",
   "id": "3b5749ec",
   "metadata": {},
   "source": [
    "or 연산의 경우 앞에서 true가 올 경우 뒤를 보지 않고 1을 리턴한다."
   ]
  },
  {
   "cell_type": "code",
   "execution_count": 3,
   "id": "f5c4c340",
   "metadata": {},
   "outputs": [
    {
     "data": {
      "text/plain": [
       "2"
      ]
     },
     "execution_count": 3,
     "metadata": {},
     "output_type": "execute_result"
    }
   ],
   "source": [
    "1 and 2 or 3 and 4"
   ]
  },
  {
   "cell_type": "markdown",
   "id": "6e3b9d80",
   "metadata": {},
   "source": [
    "and 연산자를 통해 2까지 확인한 후 or가 왔으므로 뒤를 확인하지 않고 2를 리턴한다."
   ]
  },
  {
   "cell_type": "code",
   "execution_count": 4,
   "id": "cebe783f",
   "metadata": {},
   "outputs": [
    {
     "data": {
      "text/plain": [
       "2"
      ]
     },
     "execution_count": 4,
     "metadata": {},
     "output_type": "execute_result"
    }
   ],
   "source": [
    "(1 and 2) or (3 and 4)"
   ]
  },
  {
   "cell_type": "markdown",
   "id": "fcac45fb",
   "metadata": {},
   "source": [
    "위와 같이 and 연산자를 통해 2까지 확인한 후 or가 왔으므로 뒤의 and를 확인하지 않고 2를 리턴한다."
   ]
  },
  {
   "cell_type": "code",
   "execution_count": 5,
   "id": "3569a1f1",
   "metadata": {},
   "outputs": [
    {
     "data": {
      "text/plain": [
       "1"
      ]
     },
     "execution_count": 5,
     "metadata": {},
     "output_type": "execute_result"
    }
   ],
   "source": [
    "1 or 2 and 3 or 4"
   ]
  },
  {
   "cell_type": "markdown",
   "id": "b91a51e8",
   "metadata": {},
   "source": [
    "1 이후 or가 왔으므로 뒤를 확인하지 않고 1을 리턴한다."
   ]
  },
  {
   "cell_type": "code",
   "execution_count": 6,
   "id": "dd35cf26",
   "metadata": {},
   "outputs": [
    {
     "data": {
      "text/plain": [
       "3"
      ]
     },
     "execution_count": 6,
     "metadata": {},
     "output_type": "execute_result"
    }
   ],
   "source": [
    "(1 or 2) and (3 or 4)"
   ]
  },
  {
   "cell_type": "markdown",
   "id": "29bba17d",
   "metadata": {},
   "source": [
    "or 연산을 통해 1과 3의 and 연산이므로 뒤에 있는 3을 리턴한다."
   ]
  },
  {
   "cell_type": "markdown",
   "id": "244c477a",
   "metadata": {},
   "source": [
    "### 2. 경로에 해당하는 문자열 1개를 입력 받아 그 안에 디렉토리 경로명과 파일명을 분리하여 리스트로 반환하는 함수 div_path(s)를 작성하시오.\n",
    "- 인자로 전달하는 문자열은 경로만 들어간다고 가정한다.\n",
    "- 각 디렉토리와 파일을 구분하는 문자는 '/'로 가정한다.\n",
    "- 반환하는 리스트의 첫번째 원소는 디렉토리이고 두번째 원소는 파일명이다.\n",
    "- 다음과 같은 실행 및 출력 결과가 도출되어야 한다.\n",
    "- div_path('/usr/local/bin/python')\n",
    "* ['/usr/local/bin', 'python']\n",
    "- div_path('/home/chulsoo/test.txt')\n",
    "* ['/home/chulsoo', 'test.txt']\n",
    "- [참고] 리스트(l) 내에 새로운 정수값 (예를 들어 10)을 넣는 방법은 l.append(10) 이다."
   ]
  },
  {
   "cell_type": "code",
   "execution_count": 20,
   "id": "6dc98bd2",
   "metadata": {},
   "outputs": [
    {
     "name": "stdout",
     "output_type": "stream",
     "text": [
      "문자열을 입력하시오: \n",
      "div_path('/usr/local/bin/python')\n"
     ]
    },
    {
     "data": {
      "text/plain": [
       "['/usr/local/bin', 'python']"
      ]
     },
     "execution_count": 20,
     "metadata": {},
     "output_type": "execute_result"
    }
   ],
   "source": [
    "def div_path(s):\n",
    "    number = 0\n",
    "    c = ''\n",
    "    for i in s.lstrip():\n",
    "        number += 1\n",
    "        if(i == '('):\n",
    "            break\n",
    "            \n",
    "    s = s[number:]\n",
    "    s = s.strip(\"')\"); s = s.split('/')\n",
    "    s = s[1:]\n",
    "    \n",
    "    str = []\n",
    "    for i in range(len(s)-1):\n",
    "        c = c + '/' + s[i]\n",
    "    str.append(c)\n",
    "    str.append(s[len(s)-1])\n",
    "    return str\n",
    "\n",
    "print ('문자열을 입력하시오: ')\n",
    "s = input()\n",
    "div_path(s)"
   ]
  },
  {
   "cell_type": "markdown",
   "id": "9407649c",
   "metadata": {},
   "source": [
    "- div_path 함수는 입력한 문자열의 '('까지 문자열 왼쪽 끝을 잘라낸다.\n",
    "- 이후 문자열 슬라이싱을 하기 위해 리스트로 정의한다.\n",
    "- s.strip(\"')\")을 통해 필요없는 오른쪽 문자열까지 잘라내고\n",
    "- 각 디렉토리와 파일을 구분하는 문자 '/'을 기점으로 분리해 리스트로 반환한다.\n",
    "- 이후 ' '가 생기므로 슬라이싱을 통해 자른다.\n",
    "- 각각의 원소를 append 메소드를 통해 더해주기 위해 새 리스트를 만든다.\n",
    "- 경로명까지 '/'를 사이에 더한 후 마지막 파일명은 ' '을 더한 후 더해준다."
   ]
  },
  {
   "cell_type": "markdown",
   "id": "d1bd3bcc",
   "metadata": {},
   "source": [
    "### 3. 두 개의 리스트를 인자로 받아서 그 두 개의 리스트에 대한 '합집합'을 반환하는 함수 list_union(lista, listb)를 작성하시오.\n",
    "- 집합 자료형 set은 사용하지 않는다.\n",
    "- 인자로 전달하는 리스트 2 개에는 정수값만 들어간다고 가정하자.\n",
    "- 함수 내에서 새로운 리스트를 만들어 그 리스트 내에 인자로 받은 두 리스트의 모든 원소를 넣어 반환한다.\n",
    "- 반환하는 리스트에는 절대로 중복된 원소가 들어 있으면 안된다 (집합의 조건).\n",
    "- 반환하는 리스트는 정렬이 되어 있어야 한다.\n",
    "- 다음과 같은 실행 및 출력 결과가 도출되어야 한다.\n",
    "- list_union([1, 2, 3], [1, 2, 4])\n",
    "+ [1, 2, 3, 4]\n",
    "- list_union([-10, -5, 0, -1], [100, 9, 0, 9])\n",
    "+ [-10, -5, -1, 0, 9, 100]\n",
    "- list_union([0, 1, 2], [0, 1, 2])\n",
    "+ [0, 1, 2]\n",
    "- [참고] 리스트(l) 내에 새로운 정수값 (예를 들어 10)을 넣는 방법은 l.append(10) 이다.\n",
    "- [참고] 임의의 정수값 (x)이 리스트 (l) 내에 존재하는지 판단하는 방법은 x in l 이다."
   ]
  },
  {
   "cell_type": "code",
   "execution_count": 25,
   "id": "7f770d30",
   "metadata": {},
   "outputs": [
    {
     "data": {
      "text/plain": [
       "[1, 2, 4, 8, 11, 18, 19]"
      ]
     },
     "execution_count": 25,
     "metadata": {},
     "output_type": "execute_result"
    }
   ],
   "source": [
    "def list_union(lista, listb):\n",
    "    for i in listb:\n",
    "        if(i not in lista):\n",
    "            lista.append(i)\n",
    "    return sorted(lista)\n",
    "\n",
    "lista = [4,8,11]\n",
    "listb = [1,2,4,11,19,18]\n",
    "list_union(lista, listb)"
   ]
  },
  {
   "cell_type": "markdown",
   "id": "79219354",
   "metadata": {},
   "source": [
    "두 리스트를 인자로 받아 lista에 없는 원소를 listb가 가지고 있다면 append 메소드를 통해 lista에 추가한 후 sorted를 통해 정렬한다."
   ]
  },
  {
   "cell_type": "markdown",
   "id": "333182ea",
   "metadata": {},
   "source": [
    "### 4. 두 개의 리스트를 인자로 받아서 그 두 개의 리스트에 대한 '교집합'을 반환하는 함수 list_intersection(lista, listb)와 '차집합'을 반환하는 함수 list_difference(lista, listb)를 작성하시오.\n",
    "- 모든 가정과 조건은 3번 문제와 동일하다."
   ]
  },
  {
   "cell_type": "code",
   "execution_count": 29,
   "id": "cd77feb4",
   "metadata": {},
   "outputs": [
    {
     "data": {
      "text/plain": [
       "[4, 11]"
      ]
     },
     "execution_count": 29,
     "metadata": {},
     "output_type": "execute_result"
    }
   ],
   "source": [
    "def list_intersection(lista, listb):\n",
    "    listc = []\n",
    "    for i in listb:\n",
    "        if(i in lista):\n",
    "            listc.append(i)\n",
    "    return sorted(listc)\n",
    "\n",
    "lista = [4,8,11]\n",
    "listb = [1,2,4,11,19,18]\n",
    "list_intersection(lista, listb)"
   ]
  },
  {
   "cell_type": "markdown",
   "id": "bbb1ea27",
   "metadata": {},
   "source": [
    "두 리스트를 인자로 받아 lista에 있는 원소를 listb가 가지고 있다면 append 메소드를 통해 새로 만든 listc에 추가한 후 sorted를 통해 정렬한다."
   ]
  },
  {
   "cell_type": "code",
   "execution_count": 31,
   "id": "b93981ac",
   "metadata": {},
   "outputs": [
    {
     "data": {
      "text/plain": [
       "[8]"
      ]
     },
     "execution_count": 31,
     "metadata": {},
     "output_type": "execute_result"
    }
   ],
   "source": [
    "def list_difference(lista, listb):\n",
    "    for i in listb:\n",
    "        if(i in lista):\n",
    "            lista.remove(i)\n",
    "    return sorted(lista)\n",
    "\n",
    "lista = [4,8,11]\n",
    "listb = [1,2,4,11,19,18]\n",
    "list_difference(lista, listb)"
   ]
  },
  {
   "cell_type": "markdown",
   "id": "e3e526ce",
   "metadata": {},
   "source": [
    "두 리스트를 인자로 받아 lista에 있는 원소를 listb가 가지고 있다면 remove 메소드를 통해 공통된 원소를 빼고 sorted를 통해 정렬한다."
   ]
  },
  {
   "cell_type": "markdown",
   "id": "c34710ff",
   "metadata": {},
   "source": [
    "### 5. 두 개의 양의 정수를 인자로 받아서 해당 범위안에 있는 소수(prime number)의 리스트를 출력하는 함수 print_primenumber(a, b)를 작성하시오.\n",
    "- 이미 구현된 모듈이나 라이브러리는 사용하지 않는다.\n",
    "- 함수의 반환(return)은 없으며 함수 내의 끝에서 .format()을 사용하여 다음과 같이 출력한다.\n",
    "- print_primenumber(2, 10)\n",
    "- 2 이상 10 이하 정수 중 소수 리스트: [2, 3, 5, 7]"
   ]
  },
  {
   "cell_type": "code",
   "execution_count": 41,
   "id": "b44f225c",
   "metadata": {},
   "outputs": [
    {
     "name": "stdout",
     "output_type": "stream",
     "text": [
      "2 이상 10 이하 정수 중 소수 리스트: [2, 3, 5, 7]\n"
     ]
    }
   ],
   "source": [
    "def print_primenumber(a, b):\n",
    "    def prime(n):\n",
    "        if n<2:\n",
    "            return False\n",
    "        elif n == 2:\n",
    "            return True\n",
    "        else:\n",
    "            for i in range(2, n):\n",
    "                if n%i == 0:\n",
    "                    return False\n",
    "            return True\n",
    "    \n",
    "    c = []\n",
    "    for i in range(a, b):\n",
    "        if prime(i):\n",
    "            c.append(i)\n",
    "    print(\"2 이상 10 이하 정수 중 소수 리스트: {list}\".format(list=c))\n",
    "\n",
    "print_primenumber(2, 10)"
   ]
  },
  {
   "cell_type": "markdown",
   "id": "035ae454",
   "metadata": {},
   "source": [
    "소수를 찾는 prime 함수를 정의한 후 a와 b범위 내에서 소수가 존재한다면 리스트 c에 append 메소드를 통해 추가하고\n",
    ".format()을 통해 출력해보는 작업을 한다."
   ]
  },
  {
   "cell_type": "markdown",
   "id": "c89aefa8",
   "metadata": {},
   "source": [
    "### 소감\n",
    "전체적인 난이도는 할만했습니다.\n",
    "마지막 문제는 아직 해결하지 못해 시간 경과를 두고 다시 해봐야 할 것 같습니다."
   ]
  }
 ],
 "metadata": {
  "kernelspec": {
   "display_name": "Python 3",
   "language": "python",
   "name": "python3"
  },
  "language_info": {
   "codemirror_mode": {
    "name": "ipython",
    "version": 3
   },
   "file_extension": ".py",
   "mimetype": "text/x-python",
   "name": "python",
   "nbconvert_exporter": "python",
   "pygments_lexer": "ipython3",
   "version": "3.8.8"
  }
 },
 "nbformat": 4,
 "nbformat_minor": 5
}
