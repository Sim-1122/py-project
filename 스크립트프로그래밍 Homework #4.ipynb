{
 "cells": [
  {
   "cell_type": "markdown",
   "id": "8655d34b",
   "metadata": {},
   "source": [
    "## Assignment 4\n",
    "## 2020136078 심재규"
   ]
  },
  {
   "cell_type": "markdown",
   "id": "ec4be6b1",
   "metadata": {},
   "source": [
    "### 1. 다음 문제를 읽고 알맞은 코드를 제시하시오.\n",
    "* 1) 파일 s.txt 내의 다음 내용과 함께 아래 문제의 코드를 제시하시오.\n",
    "\n",
    "> pig ham \n",
    "\n",
    "> cat dog\n",
    "\n",
    "> ham bird\n",
    "\n",
    "> dog pig"
   ]
  },
  {
   "cell_type": "code",
   "execution_count": 50,
   "id": "ab5776e8",
   "metadata": {},
   "outputs": [],
   "source": [
    "f = open('s.txt','w')\n",
    "s = ['pig ham', 'cat dog', 'ham bird', 'dog pig']\n",
    "for i in (s):\n",
    "    f.write(i)\n",
    "    f.write('\\n')\n",
    "f.close()"
   ]
  },
  {
   "cell_type": "code",
   "execution_count": 51,
   "id": "4fad421c",
   "metadata": {},
   "outputs": [
    {
     "name": "stdout",
     "output_type": "stream",
     "text": [
      "pig ham\n",
      "cat dog\n",
      "ham bird\n",
      "dog pig\n",
      "\n"
     ]
    }
   ],
   "source": [
    "f = open('s.txt','r')\n",
    "print(f.read())\n",
    "f.close()"
   ]
  },
  {
   "cell_type": "markdown",
   "id": "ee1ab7b5",
   "metadata": {},
   "source": [
    "* 2) 파일 s.txt을 읽어서 각 라인에 있는 첫 번째 단어(문자열) 자체들을 기준으로 라인별 정렬후 파일 s1.txt에 그 결과를 기록하는 코드를 작성하시오. 즉, 프로그램 수행 후 s1.txt에 있는 파일 내용은 다음과 같다.\n",
    "\n",
    "> cat dog\n",
    "\n",
    "> dog pig\n",
    "\n",
    "> ham bird\n",
    "\n",
    "> pig ham"
   ]
  },
  {
   "cell_type": "code",
   "execution_count": 52,
   "id": "a4c30dc8",
   "metadata": {},
   "outputs": [],
   "source": [
    "f = open('s.txt', 'r')\n",
    "f2 = open('s1.txt','w')\n",
    "s = f.read()\n",
    "f.close()\n",
    "s = s.split('\\n')\n",
    "s.remove('')\n",
    "for i in sorted(s):\n",
    "    f2.write(i)\n",
    "    f2.write('\\n')\n",
    "f2.close()"
   ]
  },
  {
   "cell_type": "code",
   "execution_count": 53,
   "id": "1d7147b5",
   "metadata": {},
   "outputs": [
    {
     "name": "stdout",
     "output_type": "stream",
     "text": [
      "cat dog\n",
      "dog pig\n",
      "ham bird\n",
      "pig ham\n",
      "\n"
     ]
    }
   ],
   "source": [
    "f2 = open('s1.txt','r')\n",
    "print(f2.read())\n",
    "f2.close()"
   ]
  },
  {
   "cell_type": "markdown",
   "id": "600db7d7",
   "metadata": {},
   "source": [
    "* 3) 파일 s.txt을 읽어서 각 라인에 있는 두 번째 단어(문자열) 자체들을 기준으로 라인별 정렬후 파일 s2.txt에 그 결과를 기록하는 코드를 작성하시오. 즉, 프로그램 수행 후 s2.txt에 있는 파일 내용은 다음과 같다.\n",
    "\n",
    "> ham bird\n",
    "\n",
    "> cat dog\n",
    "\n",
    "> pig ham\n",
    "\n",
    "> dog pig"
   ]
  },
  {
   "cell_type": "code",
   "execution_count": 54,
   "id": "a03bc2be",
   "metadata": {},
   "outputs": [],
   "source": [
    "def mycmp(n):\n",
    "    return n[1]\n",
    "f = open('s.txt', 'r')\n",
    "f2 = open('s2.txt','w')\n",
    "s = f.read()\n",
    "f.close()\n",
    "s = s.split('\\n')\n",
    "s.remove('')\n",
    "for i in sorted(s, key = mycmp):\n",
    "    f2.write(i)\n",
    "    f2.write('\\n')\n",
    "f2.close()"
   ]
  },
  {
   "cell_type": "code",
   "execution_count": 55,
   "id": "d4d553ad",
   "metadata": {},
   "outputs": [
    {
     "name": "stdout",
     "output_type": "stream",
     "text": [
      "cat dog\n",
      "ham bird\n",
      "pig ham\n",
      "dog pig\n",
      "\n"
     ]
    }
   ],
   "source": [
    "f2 = open('s2.txt','r')\n",
    "print(f2.read())\n",
    "f2.close()"
   ]
  },
  {
   "cell_type": "markdown",
   "id": "6ab4cb0f",
   "metadata": {},
   "source": [
    "* 4) 파일 s.txt을 읽어서 각 라인들에 있는 모든 단어들을 순차적으로 다시 나열하되 각 라인에 세 개의 단어들이 오도록 하여 s3.txt에 기록하는 코드를 작성하시오. 즉, 프로그램 수행 후 s3.txt에 있는 파일 내용은 다음과 같다.\n",
    "\n",
    "> pig ham cat\n",
    "\n",
    "> dog ham bird\n",
    "\n",
    "> dog pig"
   ]
  },
  {
   "cell_type": "code",
   "execution_count": 56,
   "id": "2354dac8",
   "metadata": {},
   "outputs": [],
   "source": [
    "count = 0\n",
    "\n",
    "f = open('s.txt','r')\n",
    "f2 = open('s3.txt','w')\n",
    "\n",
    "s = f.read()\n",
    "s = s.replace('\\n',' ')\n",
    "s = s.split(' ')\n",
    "s.remove('')\n",
    "\n",
    "for i in s:\n",
    "    count += 1\n",
    "    f2.write(i)\n",
    "    f2.write(' ')\n",
    "    if ( count == 3):\n",
    "        count = 0\n",
    "        f2.write('\\n')\n",
    "    \n",
    "    \n",
    "f.close()\n",
    "f2.close()"
   ]
  },
  {
   "cell_type": "code",
   "execution_count": 57,
   "id": "7c03d4ee",
   "metadata": {},
   "outputs": [
    {
     "name": "stdout",
     "output_type": "stream",
     "text": [
      "pig ham cat \n",
      "dog ham bird \n",
      "dog pig \n"
     ]
    }
   ],
   "source": [
    "f2 = open('s3.txt','r')\n",
    "print(f2.read())\n",
    "f2.close()"
   ]
  },
  {
   "cell_type": "markdown",
   "id": "e381bdc1",
   "metadata": {},
   "source": [
    "### 2. 다음과 같은 조건들을 참고하여 회원 가입 및 로그인 프로그램을 작성하시오.\n",
    "* 1) 프로그램 시작 후 다음과 같은 메시지가 출력되어 1, 2, 3 중 하나의 값을 입력 받도록 한다.\n",
    "\n",
    "> Welcome to Our Service\n",
    "\n",
    "> A. Sign Up\n",
    "\n",
    "> B. Sign In\n",
    "\n",
    "> C. Quit"
   ]
  },
  {
   "cell_type": "markdown",
   "id": "d073aa69",
   "metadata": {},
   "source": [
    "* 2) 1을 선택하면 ID, Password, Name, School의 4가지 정보를 입력받아 파일에 저장하는 프로그램을 작성한다.\n",
    "    * 2-1) 입력된 내용은 access.txt 라는 이름의 텍스트 파일 내에 저장된다.\n",
    "    * 2-2) access.txt 파일의 각 라인에는 가입된 회원 각각의 정보가 \"[id]: [password], [name], [school]\" 형태로 저장된다.\n",
    "    * 2-3) 즉, 가입 회원이 10명이면 access.txt 파일 내에 라인 수도 정확히 10개이다.\n",
    "    * 2-4) 암호화 방식은 sha 모듈을 활용한다. sha 모듈 활용 방법은 본 문제의 마지막에 제시된 sha 활용 예를 참고한다.\n",
    "        * 즉, access.txt 파일 내에 password 정보는 암호화 되어 저장되어야 한다.\n",
    "    * 2-5) 회원 정보를 입력 받을 때 id를 입력 받은 직후 access.txt를 확인하여 이미 존재하는 id가 입력되었다면 다음 메시지를 출력하고 id 정보를 다시 입력받는다.\n",
    "        * Sorry, the entered ID is already used."
   ]
  },
  {
   "cell_type": "markdown",
   "id": "fb9fcdbc",
   "metadata": {},
   "source": [
    "* 3) 2를 선택하면 ID, Password의 2가지 정보를 입력받는 프로그램을 작성한다.\n",
    "  * 3-1) 입력된 ID 정보가 access.txt에 존재하지 않으면 다음과 같은 메시지를 출력하고 다시 입력받는다.\n",
    "    * Sorry, you are not a registered member.\n",
    "  * 3-2) 입력된 ID가 올바르게 존재하지만 Password 정보가 access.txt 파일에 있는 정보와 불일치하면 다음과 같은 메시지를 출력하고 Password를 다시 입력받는다.\n",
    "    * Sorry, the entered password is not correct.\n",
    "    * 이 때에도 사용자가 입력한 Password 정보와 함께 sha 모듈이 활용되어야 한다.\n",
    "  * 3-3) 입력된 ID와 Password가 모두 올바르면 다음과 같은 메시지를 출력한다.\n",
    "    * Hello [name]!\n",
    "    * 위 [name]에는 access.txt에 기록되어 있는 name 정보를 출력한다."
   ]
  },
  {
   "cell_type": "markdown",
   "id": "51b4d556",
   "metadata": {},
   "source": [
    "* 4) 3을 선택하면 프로그램이 끝난다.\n",
    "* [참고] sha 모듈 활용 예"
   ]
  },
  {
   "cell_type": "code",
   "execution_count": 58,
   "id": "e3f0423c",
   "metadata": {
    "scrolled": true
   },
   "outputs": [
    {
     "name": "stdout",
     "output_type": "stream",
     "text": [
      "Welcome to Our Service \n",
      "1.Sign Up \n",
      "2.Sign In\n",
      "3.Quit\n",
      "2\n",
      "enter id\n",
      "sim\n",
      "Sorry, you are not a registered member.\n",
      "enter id\n",
      "Sim\n",
      "enter password\n",
      "5064\n",
      "hello [Sim]!\n"
     ]
    }
   ],
   "source": [
    "import hashlib\n",
    "\n",
    "def hash_password(password):\n",
    "    return hashlib.sha1(password.encode()).hexdigest()\n",
    "\n",
    "def check_id(id_test, ids):\n",
    "    for i in id_test:\n",
    "        num1 = i.find('[')\n",
    "        num2 = i.find(']')\n",
    "        if ( ids == i[num1+1:num2]):\n",
    "            return True\n",
    "    return False\n",
    "\n",
    "def check_password(id_test, ids):\n",
    "    for i in id_test:\n",
    "        ids = hash_password(ids)\n",
    "        num1 = i.find('[')\n",
    "        num2 = i.find(']')\n",
    "        num3 = i.find('[',num1+1)\n",
    "        num4 = i.find(']',num2+1)\n",
    "        if ( ids == i[num3+1:num4]):\n",
    "            num5 = i.find('[',num3+1)\n",
    "            num6 = i.find(']',num4+1)\n",
    "            return i[num5:num6+1]\n",
    "    return False\n",
    "print ('Welcome to Our Service \\n1.Sign Up \\n2.Sign In\\n3.Quit')\n",
    "select = int(input())\n",
    "if ( select == 1):\n",
    "    s = '[]:[],[],[]'\n",
    "    f = open('access.txt','w')\n",
    "    f = open('access.txt','r')\n",
    "    id_test = f.read()\n",
    "    f.close()\n",
    "    id_test = id_test.split('\\n')\n",
    "    while(1):\n",
    "        print('enter id')\n",
    "        ids = input()\n",
    "        if ( check_id(id_test, ids)):\n",
    "            print('Sorry, you are not a registered member')\n",
    "        else:\n",
    "            break\n",
    "                \n",
    "    print(\"Enter Password\")\n",
    "    password_plain = input()\n",
    "    password_encrypted = hash_password(password_plain)\n",
    "\n",
    "    print ('Enter Name')\n",
    "    name= input()\n",
    "    print ('Enter School')\n",
    "    school = input()\n",
    "    \n",
    "    s = s[0:1] + ids + s[1:4] + password_encrypted + s[4:7] + name + s[7:10] + school + s[10:]\n",
    "    f = open('access.txt','a')\n",
    "    f.write(s)\n",
    "    f.write('\\n')\n",
    "    f.close()\n",
    "        \n",
    "if ( select == 2 ):\n",
    "    f = open('access.txt','r')\n",
    "    id_test = f.read()\n",
    "    f.close()\n",
    "    id_test = id_test.split('\\n')\n",
    "    while(1):\n",
    "        print('enter id')\n",
    "        ids = input()\n",
    "        if ( not check_id(id_test, ids) ):\n",
    "            print('Sorry, you are not a registered member.')\n",
    "        else:\n",
    "            break\n",
    "    while(1):\n",
    "        print('enter password')\n",
    "        ids = input()\n",
    "        if ( not check_password( id_test, ids) ):\n",
    "            print('•Sorry, the entered password is not correct')\n",
    "        else:\n",
    "            print( 'hello '+check_password(id_test, ids) +'!')\n",
    "            break\n",
    "            \n",
    "if ( select == 3 ):\n",
    "        exit(1)"
   ]
  },
  {
   "cell_type": "code",
   "execution_count": 59,
   "id": "eaf2080a",
   "metadata": {},
   "outputs": [
    {
     "name": "stdout",
     "output_type": "stream",
     "text": [
      "[Sim]:[a661210b22621d65bd0ceedc6d792b0444acaf61],[Sim],[Koreatech]\n",
      "\n"
     ]
    }
   ],
   "source": [
    "fa = open('access.txt','r')\n",
    "print(fa.read())\n",
    "fa.close()"
   ]
  },
  {
   "cell_type": "markdown",
   "id": "708064b2",
   "metadata": {},
   "source": [
    "### 3. range() 함수와 유사한 frange() 함수를 다음 조건을 참고하여 만드시오.\n",
    "* 1) frange()의 인자 구성은 다음과 같이 range와 동일하지만 각 인수들은 음수를 받지 않는다고 가정한다.\n",
    "> range(stop)\n",
    "\n",
    "> range(start, stop[, step])\n",
    "\n",
    "* 2) frange() 함수의 인자에 대한 기본 시작(start) 값은 0.0이고, 기본 단계(step) 값은 0.1이다.\n",
    "* 3) frange 사용 예\n",
    "  * 3-1) frange(0.5)\n",
    "     * [0.0, 0.1, 0.2, 0.3, 0.4]\n",
    "  * 3-2) frange(1.0, 2.0)\n",
    "     * [1.0, 1.1, 1.2, 1.3, 1.4, 1.5, 1.6, 1.7, 1.8, 1.9]\n",
    "  * 3-3) frange(2.2, 4.0, 0.5)\n",
    "     * [2.2, 2.7, 3.2, 3.7]"
   ]
  },
  {
   "cell_type": "code",
   "execution_count": 60,
   "id": "980a883f",
   "metadata": {},
   "outputs": [
    {
     "name": "stdout",
     "output_type": "stream",
     "text": [
      "error\n",
      "None\n",
      "\n",
      "[0.0, 0.1, 0.2, 0.3, 0.4, 0.5]\n",
      "\n",
      "[1.0, 1.1, 1.2, 1.3, 1.4, 1.5, 1.6, 1.7, 1.8, 1.9]\n",
      "\n",
      "[2.2, 2.7, 3.2, 3.7]\n"
     ]
    }
   ],
   "source": [
    "def frange(*val):\n",
    "    lst = []\n",
    "    for i in val:\n",
    "        if ( i < 0):\n",
    "            print(\"error\")\n",
    "            return\n",
    "    \n",
    "    if ( len(val) == 1):\n",
    "        start = 0.0\n",
    "        step = 0.1\n",
    "        stop = val[0]\n",
    "        while (1):\n",
    "            s = \"%.1f\" % start\n",
    "            lst.append(float(s))\n",
    "            start += step\n",
    "            if ( start > stop ):\n",
    "                return lst\n",
    "    if ( len(val) == 2):\n",
    "        start = val[0]\n",
    "        stop = val[1]\n",
    "        step = 0.1\n",
    "        while (1):\n",
    "            s = \"%.1f\" % start\n",
    "            lst.append(float(s))\n",
    "            start += step\n",
    "            if ( start > stop ):\n",
    "                return lst\n",
    "    if ( len(val) == 3 ):\n",
    "        start = val[0]\n",
    "        stop = val[1]\n",
    "        step = val[2]\n",
    "        while (1):\n",
    "            s = \"%.1f\" % start\n",
    "            lst.append(float(s))\n",
    "            start += step\n",
    "            if ( start > stop ):\n",
    "                return lst\n",
    "    else:\n",
    "        print(\"error\")\n",
    "        return None\n",
    "print (frange(-10))\n",
    "print()\n",
    "print (frange (0.5))\n",
    "print()\n",
    "print (frange (1.0, 2.0))\n",
    "print()\n",
    "print (frange(2.2,4.0,0.5))"
   ]
  },
  {
   "cell_type": "markdown",
   "id": "02e5fa51",
   "metadata": {},
   "source": [
    "### 4. 가변인수를 받는 함수 sum()을 다음과 같은 조건을 참고하여 구현하시오\n",
    "\n",
    "* sum() 사용 예\n",
    "> sum()\n",
    "\n",
    "> 0\n",
    "\n",
    "> sum(1, 2)\n",
    "\n",
    "> 3\n",
    "\n",
    "> sum(1, 2, 3, 4, 5)\n",
    "\n",
    "> 15\n",
    "\n",
    "> sum(1, 5, 7, 2, -10)\n",
    "\n",
    "> 5"
   ]
  },
  {
   "cell_type": "code",
   "execution_count": 63,
   "id": "f7f87af6",
   "metadata": {},
   "outputs": [
    {
     "name": "stdout",
     "output_type": "stream",
     "text": [
      "3\n",
      "15\n",
      "5\n"
     ]
    }
   ],
   "source": [
    "def sum( *n):\n",
    "    asum = 0\n",
    "    for i in n:\n",
    "        asum += i\n",
    "    return asum\n",
    "print(sum(1,2))\n",
    "print(sum(1,2,3,4,5))\n",
    "print(sum(1,5,7,2,-10))"
   ]
  },
  {
   "cell_type": "markdown",
   "id": "8b14dd9d",
   "metadata": {},
   "source": [
    "### 5. 여러 단어로 이루어진 문자열을 입력받아 각 단어의 첫글자로 이루어진 단어를 대문자로 출력하는 myinitial() 함수를 다음 조건을 참고하여 작성하시오.\n",
    "\n",
    "* 1) 다음에 제시되는 함수들을 모두 이용해야 한다.\n",
    "\n",
    "  * split\n",
    "  * map\n",
    "  * join\n",
    "* 2) myinitial() 함수 사용 예\n",
    "\n",
    "  * myinitial(\"as soon as possible\")\n",
    "    * ASAP"
   ]
  },
  {
   "cell_type": "code",
   "execution_count": 64,
   "id": "b985b430",
   "metadata": {},
   "outputs": [
    {
     "name": "stdout",
     "output_type": "stream",
     "text": [
      "ASAP\n",
      "PPAP\n"
     ]
    }
   ],
   "source": [
    "def myinitial(s):\n",
    "    s = s.upper()\n",
    "    s = s.split(' ')\n",
    "    def mymap(s):\n",
    "        return s[0]\n",
    "    s = list(map(mymap,s))\n",
    "    s = \"\".join(s)\n",
    "    return s\n",
    "print(myinitial('as soon as possible'))\n",
    "print(myinitial('p p a p'))"
   ]
  },
  {
   "cell_type": "markdown",
   "id": "47b4ba9a",
   "metadata": {},
   "source": [
    "### 6. 음이 아닌 정수 n를 입력받으면 n! (factorial)을 계산하는 myfact() 함수를 재귀적 함수로 구현하시오.\n",
    "* [옵션] 참을 수 있는 정도 만큼의 수행시간을 직접 기다려보면서 n을 늘려보도록 합시다."
   ]
  },
  {
   "cell_type": "code",
   "execution_count": 65,
   "id": "2bc2fede",
   "metadata": {},
   "outputs": [
    {
     "name": "stdout",
     "output_type": "stream",
     "text": [
      "1220136825991110068701238785423046926253574342803192842192413588385845373153881997605496447502203281863013616477148203584163378722078177200480785205159329285477907571939330603772960859086270429174547882424912726344305670173270769461062802310452644218878789465754777149863494367781037644274033827365397471386477878495438489595537537990423241061271326984327745715546309977202781014561081188373709531016356324432987029563896628911658974769572087926928871281780070265174507768410719624390394322536422605234945850129918571501248706961568141625359056693423813008856249246891564126775654481886506593847951775360894005745238940335798476363944905313062323749066445048824665075946735862074637925184200459369692981022263971952597190945217823331756934581508552332820762820023402626907898342451712006207714640979456116127629145951237229913340169552363850942885592018727433795173014586357570828355780158735432768888680120399882384702151467605445407663535984174430480128938313896881639487469658817504506926365338175055478128640000000000000000000000000000000000000000000000000000000000000000000000000000000000000000000000000000000000000000000000000000\n"
     ]
    }
   ],
   "source": [
    "def factorial(n):\n",
    "    if ( n == 1):\n",
    "        return 1\n",
    "    else:\n",
    "        return n*factorial(n-1)\n",
    "print(factorial(500))"
   ]
  },
  {
   "cell_type": "markdown",
   "id": "0180fff1",
   "metadata": {},
   "source": [
    "### 7. (서술형) import string 과 from string import * 의 차이점을 설명하시오."
   ]
  },
  {
   "cell_type": "markdown",
   "id": "4a1afdfd",
   "metadata": {},
   "source": [
    "import string을 사용하면 string 메소드들을 사용할 수 있다. 하지만 from import를 사용하게 되면 해당 모듈에 존재하는 이름들을 현재 이름공간으로 불러들이고, 불러들인 각 이름들은 모듈 이름 없이 직접 사용 가능하다."
   ]
  },
  {
   "cell_type": "markdown",
   "id": "1a228365",
   "metadata": {},
   "source": [
    "Incremental Project 문제는 시간 관계로 해보지 못했습니다.\n",
    "하지만 파일 입출력을 활용한 과제를 진행하면서 어떤 방식으로 활용 가능한지 알아볼 수 있는 기회가 되었습니다."
   ]
  }
 ],
 "metadata": {
  "kernelspec": {
   "display_name": "Python 3",
   "language": "python",
   "name": "python3"
  },
  "language_info": {
   "codemirror_mode": {
    "name": "ipython",
    "version": 3
   },
   "file_extension": ".py",
   "mimetype": "text/x-python",
   "name": "python",
   "nbconvert_exporter": "python",
   "pygments_lexer": "ipython3",
   "version": "3.8.8"
  }
 },
 "nbformat": 4,
 "nbformat_minor": 5
}
