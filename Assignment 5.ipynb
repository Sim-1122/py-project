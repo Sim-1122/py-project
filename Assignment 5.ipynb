{
 "cells": [
  {
   "cell_type": "markdown",
   "id": "bb3ce74b",
   "metadata": {},
   "source": [
    "## Assignment 5\n",
    "## 2020136078 심재규"
   ]
  },
  {
   "cell_type": "markdown",
   "id": "6156aaa1",
   "metadata": {},
   "source": [
    "### 1. 클래스와 모듈의 공통점과 차이점에 대해 설명하시오."
   ]
  },
  {
   "cell_type": "markdown",
   "id": "71ef8193",
   "metadata": {},
   "source": [
    "공통점: 이름 공간을 구성한다.\n",
    "\n",
    "차이점: 모듈은 파일단위로 이름공간을 구성하는 반면 클래스는 이름 공간과 클래스가 생성하는 인스턴스 이름 공간을 각각 가진다."
   ]
  },
  {
   "cell_type": "markdown",
   "id": "43f730bb",
   "metadata": {},
   "source": [
    "### 2. 다형성에 대해 설명하고 다형성을 보여주는 자신만의 파이썬 코드 예제를 제시하시오."
   ]
  },
  {
   "cell_type": "markdown",
   "id": "b8523c6c",
   "metadata": {},
   "source": [
    "다형성: 다른 클래스에 속한 같은 이름의 인스턴스들이 동일한 메소드 이름으로 호출할 경우 동적으로 선택되어 수행하는 것을 의미한다."
   ]
  },
  {
   "cell_type": "code",
   "execution_count": 64,
   "id": "c929eddc",
   "metadata": {},
   "outputs": [],
   "source": [
    "class Study:\n",
    "    def Say(self):\n",
    "        print('할만하다')\n",
    "    \n",
    "class Script(Study):\n",
    "    def Say(self):\n",
    "        print('재밌다!')\n",
    "\n",
    "class Java(Study):\n",
    "    def Say(self):\n",
    "        print('즐겁다!')\n",
    "        \n",
    "class MFC(Study):\n",
    "    def Say(self):\n",
    "        print('신난다!')\n",
    "        \n",
    "class Math(Study):\n",
    "    pass"
   ]
  },
  {
   "cell_type": "code",
   "execution_count": 65,
   "id": "cfb2d153",
   "metadata": {},
   "outputs": [
    {
     "name": "stdout",
     "output_type": "stream",
     "text": [
      "재밌다!\n",
      "즐겁다!\n",
      "신난다!\n",
      "할만하다\n"
     ]
    }
   ],
   "source": [
    "for some in (Script(), Java(), MFC(), Math()):\n",
    "    some.Say()"
   ]
  },
  {
   "cell_type": "markdown",
   "id": "ea1a24d8",
   "metadata": {},
   "source": [
    "### 3. 다음 각 요구사항 모두를 만족시키는 Counter 클래스를 코딩하시오\n",
    "### (정답을 각 요구사항별로 입력할 필요 없이 3번 문제에 대해 1개의 클래스 정의 코드를 제시하면 된다.)"
   ]
  },
  {
   "cell_type": "code",
   "execution_count": 66,
   "id": "a85a5a12",
   "metadata": {},
   "outputs": [],
   "source": [
    "class Counter():\n",
    "    \n",
    "    def __init__(self, count = 1, step = 1):\n",
    "        self.count = count\n",
    "        self.step = step\n",
    "    \n",
    "    def __str__(self):\n",
    "        return \"[Count (step: %d)] %d\" % (self.step, self.count)\n",
    "    \n",
    "    def incr(self):\n",
    "        self.count += self.step\n",
    "        \n",
    "    def __call__(self):\n",
    "        self.incr()\n",
    "        \n",
    "    def __add__(self, other):\n",
    "        self.count += other\n",
    "        return self.count\n",
    "    \n",
    "    def __sub__(self, other):\n",
    "        self.count -= other\n",
    "        return self.count\n",
    "    \n",
    "    def __cmp__(self, other):\n",
    "        if self.count > other.count:\n",
    "            return 1\n",
    "        elif self.count < other.count:\n",
    "            return -1\n",
    "        else:\n",
    "            return 0"
   ]
  },
  {
   "cell_type": "markdown",
   "id": "5246df8f",
   "metadata": {},
   "source": [
    "#### 요구사항 1. 생성자에 count 값과 step 값을 인자로 받을 수 있다.\n",
    "\n",
    "- count: Counter 인스턴스가 지니는 초기 정수 값\n",
    "- step: Counter 인스턴스의 count가 증가되는 증분 (defalt 값: 1)"
   ]
  },
  {
   "cell_type": "code",
   "execution_count": 67,
   "id": "56eff414",
   "metadata": {},
   "outputs": [],
   "source": [
    "c = Counter(10)\n",
    "d = Counter(10, 2)"
   ]
  },
  {
   "cell_type": "markdown",
   "id": "a9b4d6b9",
   "metadata": {},
   "source": [
    "#### 요구사항 2. 다음과 같이 Counter의 인스턴스를 출력을 해주는 __str__() 메소드를 Counter 클래스 내에 구현하시오."
   ]
  },
  {
   "cell_type": "code",
   "execution_count": 68,
   "id": "a8c742a5",
   "metadata": {},
   "outputs": [
    {
     "name": "stdout",
     "output_type": "stream",
     "text": [
      "[Count (step: 1)] 10\n",
      "[Count (step: 2)] 10\n"
     ]
    }
   ],
   "source": [
    "print(c)\n",
    "print(d)"
   ]
  },
  {
   "cell_type": "markdown",
   "id": "5cb15848",
   "metadata": {},
   "source": [
    "#### 요구사항 3. 다음과 같이 step에 주어진 증분만큼 count를 증가시키는 incr() 메소드를 Counter 클래스 내에 구현하시오."
   ]
  },
  {
   "cell_type": "code",
   "execution_count": 69,
   "id": "5b30ea31",
   "metadata": {},
   "outputs": [
    {
     "name": "stdout",
     "output_type": "stream",
     "text": [
      "[Count (step: 1)] 11\n",
      "[Count (step: 2)] 12\n"
     ]
    }
   ],
   "source": [
    "c.incr()\n",
    "d.incr()\n",
    "print(c)\n",
    "print(d)"
   ]
  },
  {
   "cell_type": "markdown",
   "id": "fb2028dc",
   "metadata": {},
   "source": [
    "#### 요구사항 4. Counter 클래스 내에 관련 메소드를 추가하여 인스턴스 객체를 직접 호출(call)할 수 있도록 하시오. 인스턴스 객체를 직접 호출했을 때에 내부적으로 incr() 메소드를 호출하는 방법으로 구현하시오."
   ]
  },
  {
   "cell_type": "code",
   "execution_count": 70,
   "id": "c1e63147",
   "metadata": {},
   "outputs": [
    {
     "name": "stdout",
     "output_type": "stream",
     "text": [
      "[Count (step: 1)] 12\n",
      "[Count (step: 2)] 14\n"
     ]
    }
   ],
   "source": [
    "c()\n",
    "d()\n",
    "print(c)\n",
    "print(d)"
   ]
  },
  {
   "cell_type": "markdown",
   "id": "16b4b09a",
   "metadata": {},
   "source": [
    "#### 요구사항 5. 다음과 같은 두 개의 산술 연산 (+, -)이 수행될 수 있도록 Counter 클래스 내에 관련 메소드를 추가하시오."
   ]
  },
  {
   "cell_type": "code",
   "execution_count": 71,
   "id": "ff11f87b",
   "metadata": {},
   "outputs": [
    {
     "name": "stdout",
     "output_type": "stream",
     "text": [
      "17\n",
      "9\n"
     ]
    }
   ],
   "source": [
    "c = c + 5\n",
    "print(c)\n",
    "d = d - 5\n",
    "print(d)"
   ]
  },
  {
   "cell_type": "markdown",
   "id": "1d402a85",
   "metadata": {},
   "source": [
    "#### 요구사항 6. 다음과 같은 관계연산 (>, <, ==)이 수행될 수 있도록 Counter 클래스 내에 관련 메소드를 추가하시오."
   ]
  },
  {
   "cell_type": "code",
   "execution_count": 72,
   "id": "e0d648c0",
   "metadata": {},
   "outputs": [
    {
     "name": "stdout",
     "output_type": "stream",
     "text": [
      "True\n",
      "False\n",
      "False\n",
      "True\n",
      "True\n",
      "False\n"
     ]
    }
   ],
   "source": [
    "print(c > 10)\n",
    "print(d > 10)\n",
    "print(c < 10)\n",
    "print(d < 10)\n",
    "print(c == 17)\n",
    "print(d != 9)"
   ]
  },
  {
   "cell_type": "markdown",
   "id": "89a58302",
   "metadata": {},
   "source": [
    "### 4. 다음은 내장 자료형 list를 서브클래싱하여 만든 MySet 클래스 정의 내용이다.\n",
    "### 다음 클래스 정의에서 __init__(), __str()__(), elimicate_duplicate()의 세 개의 메소드 코드 내용을 자신이 다른 사람에게 가르친다고 생각하며 설명해보시오."
   ]
  },
  {
   "cell_type": "markdown",
   "id": "2d41edf9",
   "metadata": {},
   "source": [
    "- MySet은 집합(Set) 자료형을 정의하려는 의도하에 만들어진 클래스이다."
   ]
  },
  {
   "cell_type": "code",
   "execution_count": 73,
   "id": "0f823623",
   "metadata": {},
   "outputs": [
    {
     "name": "stdout",
     "output_type": "stream",
     "text": [
      "MySet: {1 ,2 ,3}\n",
      "MySet: {2 ,3 ,4 ,5 ,6 ,7 ,8 ,9}\n"
     ]
    }
   ],
   "source": [
    "class MySet(list):\n",
    "    def __init__(self, l):\n",
    "        for e in l:\n",
    "            self.append(e)\n",
    "        MySet.eliminate_duplicate(self)\n",
    "    \n",
    "    def __str__(self):\n",
    "        result = \"MySet: {\"\n",
    "        for e in self:\n",
    "            result = result + str(e) + \" ,\"\n",
    "        result = result[0:len(result)-2] + \"}\"\n",
    "        return result\n",
    "\n",
    "    @staticmethod    \n",
    "    def eliminate_duplicate(l):\n",
    "        s = []\n",
    "        for e in l:\n",
    "            if e not in s:\n",
    "                s.append(e)\n",
    "        l[:] = []\n",
    "        for e in s:\n",
    "            l.append(e)\n",
    "\n",
    "    \n",
    "if __name__ == \"__main__\":\n",
    "    s = MySet([1, 2, 2, 3])\n",
    "    print(s)\n",
    "    t = MySet([2, 3, 4, 5, 6, 7, 8, 8, 8, 8, 8, 9])\n",
    "    print(t)"
   ]
  },
  {
   "cell_type": "markdown",
   "id": "805810a5",
   "metadata": {},
   "source": [
    "- __init__: 리스트를 받아 self에 추가한 후  eliminate_duplicate()를 통해 리스트를 인자값으로 전달한다.\n",
    "- __str__: 리스트에 있는 문자를 result에 추가하고, 최종 값을 return을 통해 반환한다.\n",
    "- __elimicate_duplicate__: 리스트를 받아 기존에 없을 경우 추가한다. 이후 빈 리스트를 만든 후 겹치지 않도록 추가한다."
   ]
  },
  {
   "cell_type": "markdown",
   "id": "acbe2650",
   "metadata": {},
   "source": [
    "### 5. 4번 문제에 정의된 MySet 클래스에 메소드를 추가하여 다음 각 요구사항 모두를 만족시키는 코딩을 제시하시오."
   ]
  },
  {
   "cell_type": "code",
   "execution_count": 74,
   "id": "314f4589",
   "metadata": {},
   "outputs": [],
   "source": [
    "class MySet(list):\n",
    "    def __init__(self, l):\n",
    "        for e in l:\n",
    "            self.append(e)\n",
    "        MySet.eliminate_duplicate(self)\n",
    "    \n",
    "    def __str__(self):\n",
    "        result = \"MySet: {\"\n",
    "        for e in self:\n",
    "            result = result + str(e) + \" ,\"\n",
    "        result = result[0:len(result)-2] + \"}\"\n",
    "        return result\n",
    "\n",
    "    @staticmethod    \n",
    "    def eliminate_duplicate(l):\n",
    "        s = []\n",
    "        for e in l:\n",
    "            if e not in s:\n",
    "                s.append(e)\n",
    "        l[:] = []\n",
    "        for e in s:\n",
    "            l.append(e)\n",
    "            \n",
    "    def __or__(self, l): # 합집합 =| 연산자를 재정의\n",
    "        self = set(self)\n",
    "        l = set(l)\n",
    "        self = self|l\n",
    "        self = list(self)\n",
    "        result = \"MySet: {\" \n",
    "        for e in self:\n",
    "            result = result + str(e) + \" ,\"\n",
    "        result = result[0:len(result)-2] + \"}\"\n",
    "        return result\n",
    "    \n",
    "    def __and__(self, l): #  교집합 =& 연산자 재정의\n",
    "        self = set(self)\n",
    "        l = set(l)\n",
    "        self = self&l\n",
    "        self = list(self)\n",
    "        result = \"MySet: {\"\n",
    "        for e in self:\n",
    "            result = result + str(e) + \" ,\"\n",
    "        result = result[0:len(result)-2] + \"}\"\n",
    "        return result\n",
    "\n",
    "    def __sub__(self, l): # 차집합 =- 연산자 재정의\n",
    "        self = set(self)\n",
    "        l = set(l)\n",
    "        self = self-l\n",
    "        self = list(self)\n",
    "        result = \"MySet: {\"\n",
    "        for e in self:\n",
    "            result = result + str(e) + \" ,\"\n",
    "        result = result[0:len(result)-2] + \"}\"\n",
    "        return result\n",
    "\n",
    "if __name__ == \"__main__\":\n",
    "    s = MySet([1, 2, 2, 3])\n",
    "    t = MySet([2, 3, 4, 5, 6, 7, 8, 8, 8, 8, 8, 9])"
   ]
  },
  {
   "cell_type": "markdown",
   "id": "2ecf2139",
   "metadata": {},
   "source": [
    "- 정답을 각 요구사항별로 입력할 필요 없이 요구사항 3개 전체에 대해 1개의 MySet 클래스 정의 코드를 제시하고 주석등으로 해당 코드를 설명한다."
   ]
  },
  {
   "cell_type": "markdown",
   "id": "1775aec9",
   "metadata": {},
   "source": [
    "#### 요구사항 1. | 연산으로 두 집합의 합집합을 반환한다."
   ]
  },
  {
   "cell_type": "code",
   "execution_count": 75,
   "id": "7ae14a3f",
   "metadata": {},
   "outputs": [
    {
     "name": "stdout",
     "output_type": "stream",
     "text": [
      "MySet: {1 ,2 ,3 ,4 ,5 ,6 ,7 ,8 ,9}\n"
     ]
    }
   ],
   "source": [
    "u = s|t\n",
    "print(u)"
   ]
  },
  {
   "cell_type": "markdown",
   "id": "9236670e",
   "metadata": {},
   "source": [
    "#### 요구사항 2. & 연산으로 두 집합의 교집합을 반환한다."
   ]
  },
  {
   "cell_type": "code",
   "execution_count": 76,
   "id": "f424d5f3",
   "metadata": {},
   "outputs": [
    {
     "name": "stdout",
     "output_type": "stream",
     "text": [
      "MySet: {2 ,3}\n"
     ]
    }
   ],
   "source": [
    "u = s&t\n",
    "print(u)"
   ]
  },
  {
   "cell_type": "markdown",
   "id": "2d0ada13",
   "metadata": {},
   "source": [
    "#### 요구사항 3. - 연산으로 두 집합의 차집합을 반환한다."
   ]
  },
  {
   "cell_type": "code",
   "execution_count": 77,
   "id": "4e70b8f2",
   "metadata": {},
   "outputs": [
    {
     "name": "stdout",
     "output_type": "stream",
     "text": [
      "MySet: {1 ,2}\n"
     ]
    }
   ],
   "source": [
    "s = MySet([1, 2, 3])\n",
    "t = MySet([3, 4, 5])\n",
    "u = s-t\n",
    "print(u)"
   ]
  },
  {
   "cell_type": "markdown",
   "id": "ac7ae88c",
   "metadata": {},
   "source": [
    "### 6. 5번 문제에서 정의한 MySet 클래스에 대해 다음 예제를 수행하면 오류없이 올바르게 동작하는 것을 확인할 수 있다. 다음 예제 내에 있는 len(), bool() 내장함수와 in 키워드 사용 예제가 별다른 메소드 정의를 하지 않았는 데도 올바르게 수행되는 이유를 설명하시오."
   ]
  },
  {
   "cell_type": "markdown",
   "id": "1115b437",
   "metadata": {},
   "source": [
    "- s = MySet([1, 2, 3, 4, 5, 6]) print(len(s)) 6 print(bool(s)) True print(2 in s) True"
   ]
  },
  {
   "cell_type": "markdown",
   "id": "d7870328",
   "metadata": {},
   "source": [
    "len(), bool()은 기본으로 정의된 내장함수이기 때문에 수행이 가능하다."
   ]
  },
  {
   "cell_type": "markdown",
   "id": "a2a95306",
   "metadata": {},
   "source": [
    "Incremental Project 문제는 이전에 해결해지 못했던 문제들과 연관되었기 때문에 시간상 해결하지 못했습니다. 파이썬 클래스 활용을 실습해보는 시간이 되어 뜻깊었습니다. 이번 학기동안 고생하셨습니다."
   ]
  }
 ],
 "metadata": {
  "kernelspec": {
   "display_name": "Python 3 (ipykernel)",
   "language": "python",
   "name": "python3"
  },
  "language_info": {
   "codemirror_mode": {
    "name": "ipython",
    "version": 3
   },
   "file_extension": ".py",
   "mimetype": "text/x-python",
   "name": "python",
   "nbconvert_exporter": "python",
   "pygments_lexer": "ipython3",
   "version": "3.9.7"
  }
 },
 "nbformat": 4,
 "nbformat_minor": 5
}
