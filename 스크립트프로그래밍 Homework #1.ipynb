{
 "cells": [
  {
   "cell_type": "markdown",
   "id": "d389db06",
   "metadata": {},
   "source": [
    "2020136078_심재규\n",
    "================\n",
    "### 스크립트프로그래밍 Homework #1"
   ]
  },
  {
   "cell_type": "markdown",
   "id": "8f6a4980",
   "metadata": {},
   "source": [
    "1번 문제\n",
    "=======\n",
    "#### a=\"Hello Python\" 문자열을 Slicing과 연결 연산자 (+)를 사용하여 \"Python Hello\"로 변경하시오.\n",
    "##### [주의] a 변수 자체에 \"Python Hello\" 문자열이 저장되어야 함"
   ]
  },
  {
   "cell_type": "code",
   "execution_count": 26,
   "id": "0f5aa072",
   "metadata": {},
   "outputs": [
    {
     "data": {
      "text/plain": [
       "'Python Hello'"
      ]
     },
     "execution_count": 26,
     "metadata": {},
     "output_type": "execute_result"
    }
   ],
   "source": [
    "a = \"Hello Python\"\n",
    "a = a[6:] + a[5] + a[0:5]\n",
    "a"
   ]
  },
  {
   "cell_type": "markdown",
   "id": "1e539861",
   "metadata": {},
   "source": [
    "#### 슬라이싱을 이용해 시작 위치부터 보폭으로 끊어 가져온다.\n",
    "#### 인덱스 6번부터 가져오고 띄어쓰기 후 0~4번까지 가져온다."
   ]
  },
  {
   "cell_type": "markdown",
   "id": "0c9646ac",
   "metadata": {},
   "source": [
    "2번 문제\n",
    "=======\n",
    "#### b=\"Hello Python World\" 문자열을 Slicing과 연결 연산자 (+)를 사용하여 \"World Python Hello\"로 변경하시오.\n",
    "##### [주의] b 변수 자체에 \"World Python Hello\" 문자열이 저장되어야 함"
   ]
  },
  {
   "cell_type": "code",
   "execution_count": 27,
   "id": "dc9387bc",
   "metadata": {},
   "outputs": [
    {
     "data": {
      "text/plain": [
       "'World Python Hello'"
      ]
     },
     "execution_count": 27,
     "metadata": {},
     "output_type": "execute_result"
    }
   ],
   "source": [
    "b = \"Hello Python World\"\n",
    "b = b[13:] + b[12] + b[6:12] + b[5] + b[0:5]\n",
    "b"
   ]
  },
  {
   "cell_type": "markdown",
   "id": "15745ced",
   "metadata": {},
   "source": [
    "#### 인덱스 13이상을 가져온 후 띄어쓰기\n",
    "#### 인덱스 6~11을 가져온 후 띄어쓰기\n",
    "#### 인덱스 0~4를 가져온다. "
   ]
  },
  {
   "cell_type": "markdown",
   "id": "739ca8c1",
   "metadata": {},
   "source": [
    "3번 문제\n",
    "========\n",
    "#### c=\"Hello\"를 \"olleH\"로 변경하시오\n",
    "#### [주의] c 변수 자체에 \"olleH\" 문자열이 저장되어야 함"
   ]
  },
  {
   "cell_type": "code",
   "execution_count": 28,
   "id": "06218dad",
   "metadata": {},
   "outputs": [
    {
     "data": {
      "text/plain": [
       "'olleH'"
      ]
     },
     "execution_count": 28,
     "metadata": {},
     "output_type": "execute_result"
    }
   ],
   "source": [
    "c = \"Hello\"\n",
    "c = c[::-1]\n",
    "c"
   ]
  },
  {
   "cell_type": "markdown",
   "id": "5bd8b43e",
   "metadata": {},
   "source": [
    "#### 인덱스 방향을 -1로 함으로써 역방향으로 가져온다."
   ]
  },
  {
   "cell_type": "markdown",
   "id": "a8a475fb",
   "metadata": {},
   "source": [
    "4번 문제\n",
    "========\n",
    "#### s=\"python\"에 대해 다음 문제를 풀어보시오.\n",
    "1. s[0], s[0][0], s[0][0][0]은 각각 어떤 값이 나오는지 확인하고 그 이유를 나름대로 설명해 보시오.\n",
    "2. s[-100], s[100]은 값이 나오는지 에러가 나오는지 확인하고 그 결과에 대한 이유를 나름대로 설명해 보시오.\n",
    "3. s[-100, 100]은 값이 나오는지 에러가 나오는지 확인하고 그 결과에 대한 이유를 나름대로 설명해 보시오.\n",
    "4. s[1:-1]의 결과를 확인하고 그 결과에 대한 이유를 정확하게 설명하시오.\n",
    "5. s[3:-3]의 결과를 확인하고 그 결과에 대한 이유를 정확하게 설명하시오."
   ]
  },
  {
   "cell_type": "code",
   "execution_count": 29,
   "id": "5501b1f7",
   "metadata": {},
   "outputs": [
    {
     "data": {
      "text/plain": [
       "'p'"
      ]
     },
     "execution_count": 29,
     "metadata": {},
     "output_type": "execute_result"
    }
   ],
   "source": [
    "s = \"python\"\n",
    "s[0]"
   ]
  },
  {
   "cell_type": "markdown",
   "id": "d27ea564",
   "metadata": {},
   "source": [
    "#### 0번 인덱스 p를 가져온다."
   ]
  },
  {
   "cell_type": "code",
   "execution_count": 30,
   "id": "31451a1d",
   "metadata": {},
   "outputs": [
    {
     "data": {
      "text/plain": [
       "'p'"
      ]
     },
     "execution_count": 30,
     "metadata": {},
     "output_type": "execute_result"
    }
   ],
   "source": [
    "s[0][0]"
   ]
  },
  {
   "cell_type": "markdown",
   "id": "df6f2bf5",
   "metadata": {},
   "source": [
    "#### 0번 인덱스 p에서 0번 인덱스인 p를 가져온다."
   ]
  },
  {
   "cell_type": "code",
   "execution_count": 31,
   "id": "45648468",
   "metadata": {},
   "outputs": [
    {
     "data": {
      "text/plain": [
       "'p'"
      ]
     },
     "execution_count": 31,
     "metadata": {},
     "output_type": "execute_result"
    }
   ],
   "source": [
    "s[0][0][0]"
   ]
  },
  {
   "cell_type": "markdown",
   "id": "f22cf5fb",
   "metadata": {},
   "source": [
    "#### 0번 인덱스 p에서 0번 인덱스 p의 0번 인덱스 p를 가져온다."
   ]
  },
  {
   "cell_type": "code",
   "execution_count": 32,
   "id": "f354d7f2",
   "metadata": {},
   "outputs": [
    {
     "ename": "IndexError",
     "evalue": "string index out of range",
     "output_type": "error",
     "traceback": [
      "\u001b[1;31m---------------------------------------------------------------------------\u001b[0m",
      "\u001b[1;31mIndexError\u001b[0m                                Traceback (most recent call last)",
      "\u001b[1;32m<ipython-input-32-3eaddaa60d3d>\u001b[0m in \u001b[0;36m<module>\u001b[1;34m\u001b[0m\n\u001b[1;32m----> 1\u001b[1;33m \u001b[0ms\u001b[0m\u001b[1;33m[\u001b[0m\u001b[1;33m-\u001b[0m\u001b[1;36m100\u001b[0m\u001b[1;33m]\u001b[0m\u001b[1;33m\u001b[0m\u001b[1;33m\u001b[0m\u001b[0m\n\u001b[0m",
      "\u001b[1;31mIndexError\u001b[0m: string index out of range"
     ]
    }
   ],
   "source": [
    "s[-100]"
   ]
  },
  {
   "cell_type": "markdown",
   "id": "32aaa0c5",
   "metadata": {},
   "source": [
    "#### -100번 인덱스는 우측에서부터 좌측으로 100번째 인덱스를 가리키기 때문에\n",
    "#### 범위를 벗어나 존재하지 않기 때문에 에러가 나온다."
   ]
  },
  {
   "cell_type": "code",
   "execution_count": 33,
   "id": "bfe1154b",
   "metadata": {},
   "outputs": [
    {
     "ename": "IndexError",
     "evalue": "string index out of range",
     "output_type": "error",
     "traceback": [
      "\u001b[1;31m---------------------------------------------------------------------------\u001b[0m",
      "\u001b[1;31mIndexError\u001b[0m                                Traceback (most recent call last)",
      "\u001b[1;32m<ipython-input-33-2a138df92e52>\u001b[0m in \u001b[0;36m<module>\u001b[1;34m\u001b[0m\n\u001b[1;32m----> 1\u001b[1;33m \u001b[0ms\u001b[0m\u001b[1;33m[\u001b[0m\u001b[1;36m100\u001b[0m\u001b[1;33m]\u001b[0m\u001b[1;33m\u001b[0m\u001b[1;33m\u001b[0m\u001b[0m\n\u001b[0m",
      "\u001b[1;31mIndexError\u001b[0m: string index out of range"
     ]
    }
   ],
   "source": [
    "s[100]"
   ]
  },
  {
   "cell_type": "markdown",
   "id": "438a0c68",
   "metadata": {},
   "source": [
    "#### 100번 인덱스는 범위내에 존재하지 않기 때문에 에러가 나온다."
   ]
  },
  {
   "cell_type": "code",
   "execution_count": 34,
   "id": "8455ecce",
   "metadata": {},
   "outputs": [
    {
     "ename": "TypeError",
     "evalue": "string indices must be integers",
     "output_type": "error",
     "traceback": [
      "\u001b[1;31m---------------------------------------------------------------------------\u001b[0m",
      "\u001b[1;31mTypeError\u001b[0m                                 Traceback (most recent call last)",
      "\u001b[1;32m<ipython-input-34-43f1a8d7817d>\u001b[0m in \u001b[0;36m<module>\u001b[1;34m\u001b[0m\n\u001b[1;32m----> 1\u001b[1;33m \u001b[0ms\u001b[0m\u001b[1;33m[\u001b[0m\u001b[1;33m-\u001b[0m\u001b[1;36m100\u001b[0m\u001b[1;33m,\u001b[0m \u001b[1;36m100\u001b[0m\u001b[1;33m]\u001b[0m\u001b[1;33m\u001b[0m\u001b[1;33m\u001b[0m\u001b[0m\n\u001b[0m",
      "\u001b[1;31mTypeError\u001b[0m: string indices must be integers"
     ]
    }
   ],
   "source": [
    "s[-100, 100]"
   ]
  },
  {
   "cell_type": "markdown",
   "id": "c4a977ec",
   "metadata": {},
   "source": [
    "#### -100번 인덱스와 100번 인덱스는 존재하지 않기 때문에 에러가 나온다."
   ]
  },
  {
   "cell_type": "code",
   "execution_count": 35,
   "id": "1e810649",
   "metadata": {},
   "outputs": [
    {
     "data": {
      "text/plain": [
       "'ytho'"
      ]
     },
     "execution_count": 35,
     "metadata": {},
     "output_type": "execute_result"
    }
   ],
   "source": [
    "s[1:-1]"
   ]
  },
  {
   "cell_type": "markdown",
   "id": "675d0dda",
   "metadata": {},
   "source": [
    "#### 1번 인덱싱(y)부터 -1번 인덱싱(n) 앞까지 출력한다."
   ]
  },
  {
   "cell_type": "code",
   "execution_count": 36,
   "id": "021813fc",
   "metadata": {},
   "outputs": [
    {
     "data": {
      "text/plain": [
       "''"
      ]
     },
     "execution_count": 36,
     "metadata": {},
     "output_type": "execute_result"
    }
   ],
   "source": [
    "s[3:-3]"
   ]
  },
  {
   "cell_type": "markdown",
   "id": "5bd180a5",
   "metadata": {},
   "source": [
    "#### 3번 인덱스에서 -3번 인덱스 앞까지 출력한다.\n",
    "#### 3번 인덱스는 h, -3번 인덱스는 h\n",
    "#### 따라서 아무것도 출력하지 않는다."
   ]
  },
  {
   "cell_type": "markdown",
   "id": "6abcd63e",
   "metadata": {},
   "source": [
    "5번 문제\n",
    "=======\n",
    "#### for문을 활용하여 1부터 100사이의 홀수를 출력하시오."
   ]
  },
  {
   "cell_type": "code",
   "execution_count": 37,
   "id": "2d86a584",
   "metadata": {},
   "outputs": [
    {
     "name": "stdout",
     "output_type": "stream",
     "text": [
      "1\n",
      "3\n",
      "5\n",
      "7\n",
      "9\n",
      "11\n",
      "13\n",
      "15\n",
      "17\n",
      "19\n",
      "21\n",
      "23\n",
      "25\n",
      "27\n",
      "29\n",
      "31\n",
      "33\n",
      "35\n",
      "37\n",
      "39\n",
      "41\n",
      "43\n",
      "45\n",
      "47\n",
      "49\n",
      "51\n",
      "53\n",
      "55\n",
      "57\n",
      "59\n",
      "61\n",
      "63\n",
      "65\n",
      "67\n",
      "69\n",
      "71\n",
      "73\n",
      "75\n",
      "77\n",
      "79\n",
      "81\n",
      "83\n",
      "85\n",
      "87\n",
      "89\n",
      "91\n",
      "93\n",
      "95\n",
      "97\n",
      "99\n"
     ]
    }
   ],
   "source": [
    "for i in range(1,101):\n",
    "    if(i%2==1):\n",
    "        print(i)"
   ]
  },
  {
   "cell_type": "markdown",
   "id": "8c181afd",
   "metadata": {},
   "source": [
    "#### for in문을 이용하여 2로 나누어 떨어지지 않는 홀수를 출력한다."
   ]
  },
  {
   "cell_type": "markdown",
   "id": "7073dce2",
   "metadata": {},
   "source": [
    "6번 문제\n",
    "=======\n",
    "#### while문을 활용하여 1부터 100사이의 짝수의 합을 계산하여 출력하시오."
   ]
  },
  {
   "cell_type": "code",
   "execution_count": 38,
   "id": "316a819a",
   "metadata": {},
   "outputs": [
    {
     "name": "stdout",
     "output_type": "stream",
     "text": [
      "2550\n"
     ]
    }
   ],
   "source": [
    "j=1\n",
    "sum=0\n",
    "while j<=100:\n",
    "    if(j%2==0):\n",
    "        sum+=j\n",
    "    j+=1\n",
    "print(sum)"
   ]
  },
  {
   "cell_type": "markdown",
   "id": "22a8aa64",
   "metadata": {},
   "source": [
    "#### while문을 이용하여 2로 나누어 떨어지는 짝수의 총합을 출력한다."
   ]
  },
  {
   "cell_type": "markdown",
   "id": "3bd9ad16",
   "metadata": {},
   "source": [
    "7번 문제\n",
    "=======\n",
    "#### 사용자로 부터 임의의 정수를 입력받고, 해당 숫자를 역순으로 출력하는 프로그램을 작성하시오.\n",
    "\n",
    "#### [실행 예]\n",
    "\n",
    "#### 정수를 입력하세요: 3125\n",
    "#### 숫자 역순은 5213 입니다."
   ]
  },
  {
   "cell_type": "code",
   "execution_count": 39,
   "id": "c6d21b0a",
   "metadata": {},
   "outputs": [
    {
     "name": "stdout",
     "output_type": "stream",
     "text": [
      "정수를 입력하세요: 123456\n",
      "숫자 역순은 654321 입니다.\n"
     ]
    }
   ],
   "source": [
    "number = int(input('정수를 입력하세요: '))\n",
    "tmp = number\n",
    "\n",
    "reverse = 0\n",
    "while tmp > 0:\n",
    "    reverse *= 10\n",
    "    reverse += tmp % 10\n",
    "    tmp //= 10\n",
    "    \n",
    "print('숫자 역순은 ' + str(reverse) + ' 입니다.')"
   ]
  },
  {
   "cell_type": "markdown",
   "id": "6c087bf4",
   "metadata": {},
   "source": [
    "#### 입력한 정수를 받아 10으로 나눈 나머지를 다른 변수에 저장한 후\n",
    "#### 10씩 곱하여 역순으로 만든다."
   ]
  },
  {
   "cell_type": "markdown",
   "id": "e3895a98",
   "metadata": {},
   "source": [
    "8번 문제\n",
    "=======\n",
    "#### 사용자로 부터 정수를 입력받아서 1부터 그 사이에 존재하는 소수 (Prime number)를 출력하는 파이썬 프로그램을 작성하시오."
   ]
  },
  {
   "cell_type": "code",
   "execution_count": 40,
   "id": "88da0e1c",
   "metadata": {},
   "outputs": [
    {
     "name": "stdout",
     "output_type": "stream",
     "text": [
      "정수를 입력하세요: 11\n",
      "2\n",
      "3\n",
      "5\n",
      "7\n",
      "11\n"
     ]
    }
   ],
   "source": [
    "number = int(input('정수를 입력하세요: '))\n",
    "\n",
    "def prime(n):\n",
    "    if n<2:\n",
    "        return False\n",
    "    elif n == 2:\n",
    "        return True\n",
    "    else:\n",
    "        for i in range(2, n):\n",
    "            if n%i == 0:\n",
    "                return False\n",
    "        return True\n",
    "    \n",
    "for i in range(1, number+1):\n",
    "    if prime(i):\n",
    "        print(i)"
   ]
  },
  {
   "cell_type": "markdown",
   "id": "bd3dff8a",
   "metadata": {},
   "source": [
    "#### 1을 입력받은 경우 출력하지 않는다.\n",
    "#### 2를 입력받은 경우 출력한다.\n",
    "#### 3이상을 입력받은 경우 2부터 해당 정수까지의 반복문을 사용하여\n",
    "#### 나누는 수를 2까지 줄이며 나눈 후\n",
    "#### 나누어 떨어지면 False, 나누어 떨어지지 않으면 True를 반환하여\n",
    "#### 1부터 그 사이에 존재하는 소수만 출력하도록 만든다."
   ]
  },
  {
   "cell_type": "markdown",
   "id": "490867bc",
   "metadata": {},
   "source": [
    "9번 문제\n",
    "======\n",
    "#### Kevin과 Stuart는 게임을 한다. 규칙은 아래와 같다.\n",
    "\n",
    "* 두 플레이어에게 같은 string, S, 가 주어진다.\n",
    "* 두 플레이어는 string S의 문자를 사용하여 substring을 만들어야 한다(중복 가능).\n",
    "* Stuart는 자음으로 시작하는 단어를 만들어야 한다.\n",
    "* Kevin은 모음으로 시작하는 단어를 만들어야 한다.\n",
    "* 게임은 두 플레이어가 만들 수 있는 모든 단어를 만들었을 때 끝난다.\n",
    "* 점수 계산 : substring 1개당 +1 점을 획득한다. (아래 그림 참고)"
   ]
  },
  {
   "cell_type": "code",
   "execution_count": 41,
   "id": "b2f06c2c",
   "metadata": {},
   "outputs": [
    {
     "name": "stdout",
     "output_type": "stream",
     "text": [
      "string S를 입력하세요: BANANA\n",
      "승자: Stuart 점수:  12\n"
     ]
    }
   ],
   "source": [
    "import re\n",
    "\n",
    "S = input('string S를 입력하세요: ')\n",
    "test = S.upper()\n",
    "Stuart = 0\n",
    "Kevin = 0\n",
    "\n",
    "for i in range(len(test)):\n",
    "    substr = re.findall(r\"(?=([^AEIOU][A-Z]{{{0}}}))\".format(i),test)\n",
    "    Stuart += len(substr)\n",
    "\n",
    "for i in range(len(test)):\n",
    "    substr = re.findall(r\"(?=([AEIOU][A-Z]{{{0}}}))\".format(i),test)\n",
    "    Kevin += len(substr)\n",
    "\n",
    "if Stuart > Kevin:\n",
    "    print('승자: Stuart 점수: ', Stuart)\n",
    "elif Stuart < Kevin:\n",
    "    print('승자: Kevin 점수: ', Kevin)\n",
    "else:\n",
    "    print('무승부')"
   ]
  },
  {
   "cell_type": "markdown",
   "id": "52fb9d31",
   "metadata": {},
   "source": [
    "#### string S를 입력받은 후\n",
    "#### Stuart는 자음으로 시작하는 substring으로 점수를 구하고,\n",
    "#### Kevin은 모음으로 시작하는 substring으로 점수를 구한다.\n",
    "#### 둘 중 점수가 높은 사람을 승자로 정하고 동일한 경우 무승부로 한다."
   ]
  },
  {
   "cell_type": "markdown",
   "id": "ef5db903",
   "metadata": {},
   "source": [
    "10번 문제\n",
    "========\n",
    "#### 알파벳 소문자만으로 이루어진 string, S, 가 주어지고 아래 2가지 연산을 수행할 수 있다.\n",
    "* 추가 : string S의 끝에 알파벳 소문자 하나를 추가한다.\n",
    "* 삭제 : string S의 마지막 문자 하나를 삭제한다. empty string에서 삭제 연산을 수행한 결과는 empty string이다.\n",
    "* 두 개의 string, s와 t, 그리고 정수 k가 주어질 때, 정확히 k번의 연산을 통해 s를 t로 바꿀 수 있는지 판단하는 함수를 작성하시오."
   ]
  },
  {
   "cell_type": "code",
   "execution_count": 42,
   "id": "5d6b00ca",
   "metadata": {},
   "outputs": [],
   "source": [
    "def appendDelete(s, t, k):\n",
    "    '''\n",
    "    함수 포맷 변경하지 마세요.\n",
    "    s를 정확히 k번의 연산을 통해 t로 바꿀 수 있다면 'Yes'를 아니면 'No'를 return 해주세요.\n",
    "    '''\n",
    "    return 'Yes'    # or 'No'"
   ]
  },
  {
   "cell_type": "markdown",
   "id": "fed7446d",
   "metadata": {},
   "source": [
    "소감\n",
    "------\n",
    "#### 수업 내용과 개념은 간단해서 알기 쉽습니다.\n",
    "#### 하지만 책과의 목차와 난이도가 약간 다른 것 같아 스스로 찾아보는 과정에서 다른 학우분들은 어떻게 해결하는지 궁금합니다."
   ]
  },
  {
   "cell_type": "code",
   "execution_count": null,
   "id": "703442fe",
   "metadata": {},
   "outputs": [],
   "source": []
  }
 ],
 "metadata": {
  "kernelspec": {
   "display_name": "Python 3",
   "language": "python",
   "name": "python3"
  },
  "language_info": {
   "codemirror_mode": {
    "name": "ipython",
    "version": 3
   },
   "file_extension": ".py",
   "mimetype": "text/x-python",
   "name": "python",
   "nbconvert_exporter": "python",
   "pygments_lexer": "ipython3",
   "version": "3.8.8"
  }
 },
 "nbformat": 4,
 "nbformat_minor": 5
}
