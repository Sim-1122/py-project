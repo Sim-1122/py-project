{
 "cells": [
  {
   "cell_type": "markdown",
   "id": "f35b26d2",
   "metadata": {},
   "source": [
    "# Assignment 3"
   ]
  },
  {
   "cell_type": "markdown",
   "id": "75c34032",
   "metadata": {},
   "source": [
    "# 2020136078_심재규"
   ]
  },
  {
   "cell_type": "markdown",
   "id": "72af0e59",
   "metadata": {},
   "source": [
    "### 1. L=[1, 2, 3, 4, 5]일 때 다음 각 문장을 수행한 후의 결과를 보고 납득할 만한 이유를 설명하시오."
   ]
  },
  {
   "cell_type": "code",
   "execution_count": 121,
   "id": "7fe884d1",
   "metadata": {},
   "outputs": [
    {
     "name": "stdout",
     "output_type": "stream",
     "text": [
      "[1, 100, 4, 5]\n"
     ]
    }
   ],
   "source": [
    "L=[1, 2, 3, 4, 5]\n",
    "L[1:3] = [100]\n",
    "print(L)"
   ]
  },
  {
   "cell_type": "markdown",
   "id": "4be7988e",
   "metadata": {},
   "source": [
    "1) 슬라이싱 [1:3]에 [100]으로 치환했다."
   ]
  },
  {
   "cell_type": "code",
   "execution_count": 122,
   "id": "7cbc32fd",
   "metadata": {},
   "outputs": [
    {
     "name": "stdout",
     "output_type": "stream",
     "text": [
      "[1, 100, 4, 5]\n"
     ]
    }
   ],
   "source": [
    "L=[1, 2, 3, 4, 5]\n",
    "L[1:3] = [(100)]\n",
    "print(L)"
   ]
  },
  {
   "cell_type": "markdown",
   "id": "5c3bc88b",
   "metadata": {},
   "source": [
    "2) 슬라이싱 [1:3]에 [(100)]으로 치환했다."
   ]
  },
  {
   "cell_type": "code",
   "execution_count": 123,
   "id": "2127c068",
   "metadata": {},
   "outputs": [
    {
     "ename": "TypeError",
     "evalue": "can only assign an iterable",
     "output_type": "error",
     "traceback": [
      "\u001b[1;31m---------------------------------------------------------------------------\u001b[0m",
      "\u001b[1;31mTypeError\u001b[0m                                 Traceback (most recent call last)",
      "\u001b[1;32m<ipython-input-123-b14b6d5e9def>\u001b[0m in \u001b[0;36m<module>\u001b[1;34m\u001b[0m\n\u001b[0;32m      1\u001b[0m \u001b[0mL\u001b[0m\u001b[1;33m=\u001b[0m\u001b[1;33m[\u001b[0m\u001b[1;36m1\u001b[0m\u001b[1;33m,\u001b[0m \u001b[1;36m2\u001b[0m\u001b[1;33m,\u001b[0m \u001b[1;36m3\u001b[0m\u001b[1;33m,\u001b[0m \u001b[1;36m4\u001b[0m\u001b[1;33m,\u001b[0m \u001b[1;36m5\u001b[0m\u001b[1;33m]\u001b[0m\u001b[1;33m\u001b[0m\u001b[1;33m\u001b[0m\u001b[0m\n\u001b[1;32m----> 2\u001b[1;33m \u001b[0mL\u001b[0m\u001b[1;33m[\u001b[0m\u001b[1;36m1\u001b[0m\u001b[1;33m:\u001b[0m\u001b[1;36m3\u001b[0m\u001b[1;33m]\u001b[0m \u001b[1;33m=\u001b[0m \u001b[1;36m100\u001b[0m\u001b[1;33m\u001b[0m\u001b[1;33m\u001b[0m\u001b[0m\n\u001b[0m\u001b[0;32m      3\u001b[0m \u001b[0mprint\u001b[0m\u001b[1;33m(\u001b[0m\u001b[0mL\u001b[0m\u001b[1;33m)\u001b[0m\u001b[1;33m\u001b[0m\u001b[1;33m\u001b[0m\u001b[0m\n",
      "\u001b[1;31mTypeError\u001b[0m: can only assign an iterable"
     ]
    }
   ],
   "source": [
    "L=[1, 2, 3, 4, 5]\n",
    "L[1:3] = 100\n",
    "print(L)"
   ]
  },
  {
   "cell_type": "markdown",
   "id": "6bda6a49",
   "metadata": {},
   "source": [
    "3) 1번 인덱스부터 3번 인덱스 앞까지 치환하므로 서로 다른크기는 불가능하다."
   ]
  },
  {
   "cell_type": "code",
   "execution_count": 124,
   "id": "33ed0827",
   "metadata": {},
   "outputs": [
    {
     "ename": "TypeError",
     "evalue": "can only assign an iterable",
     "output_type": "error",
     "traceback": [
      "\u001b[1;31m---------------------------------------------------------------------------\u001b[0m",
      "\u001b[1;31mTypeError\u001b[0m                                 Traceback (most recent call last)",
      "\u001b[1;32m<ipython-input-124-9714c1575170>\u001b[0m in \u001b[0;36m<module>\u001b[1;34m\u001b[0m\n\u001b[0;32m      1\u001b[0m \u001b[0mL\u001b[0m\u001b[1;33m=\u001b[0m\u001b[1;33m[\u001b[0m\u001b[1;36m1\u001b[0m\u001b[1;33m,\u001b[0m \u001b[1;36m2\u001b[0m\u001b[1;33m,\u001b[0m \u001b[1;36m3\u001b[0m\u001b[1;33m,\u001b[0m \u001b[1;36m4\u001b[0m\u001b[1;33m,\u001b[0m \u001b[1;36m5\u001b[0m\u001b[1;33m]\u001b[0m\u001b[1;33m\u001b[0m\u001b[1;33m\u001b[0m\u001b[0m\n\u001b[1;32m----> 2\u001b[1;33m \u001b[0mL\u001b[0m\u001b[1;33m[\u001b[0m\u001b[1;36m1\u001b[0m\u001b[1;33m:\u001b[0m\u001b[1;36m3\u001b[0m\u001b[1;33m]\u001b[0m \u001b[1;33m=\u001b[0m \u001b[1;33m(\u001b[0m\u001b[1;36m100\u001b[0m\u001b[1;33m)\u001b[0m\u001b[1;33m\u001b[0m\u001b[1;33m\u001b[0m\u001b[0m\n\u001b[0m\u001b[0;32m      3\u001b[0m \u001b[0mprint\u001b[0m\u001b[1;33m(\u001b[0m\u001b[0mL\u001b[0m\u001b[1;33m)\u001b[0m\u001b[1;33m\u001b[0m\u001b[1;33m\u001b[0m\u001b[0m\n",
      "\u001b[1;31mTypeError\u001b[0m: can only assign an iterable"
     ]
    }
   ],
   "source": [
    "L=[1, 2, 3, 4, 5]\n",
    "L[1:3] = (100)\n",
    "print(L)"
   ]
  },
  {
   "cell_type": "markdown",
   "id": "105e21c3",
   "metadata": {},
   "source": [
    "4) 위와 같은 이유로 치환이 불가능하다."
   ]
  },
  {
   "cell_type": "code",
   "execution_count": 125,
   "id": "eb4ca3d0",
   "metadata": {},
   "outputs": [
    {
     "name": "stdout",
     "output_type": "stream",
     "text": [
      "[1, 100, 101, 102, 4, 5]\n"
     ]
    }
   ],
   "source": [
    "L=[1, 2, 3, 4, 5]\n",
    "L[1:3] = (100, 101, 102)\n",
    "print(L)"
   ]
  },
  {
   "cell_type": "markdown",
   "id": "f1e77d12",
   "metadata": {},
   "source": [
    "5) 크기는 다르지만 튜플은 치환이 가능하다."
   ]
  },
  {
   "cell_type": "code",
   "execution_count": 126,
   "id": "1509b0b7",
   "metadata": {},
   "outputs": [
    {
     "name": "stdout",
     "output_type": "stream",
     "text": [
      "[1, 100, 101, 102, 4, 5]\n"
     ]
    }
   ],
   "source": [
    "L=[1, 2, 3, 4, 5]\n",
    "L[1:3] = [100, 101, 102]\n",
    "print(L)"
   ]
  },
  {
   "cell_type": "markdown",
   "id": "36bbad33",
   "metadata": {},
   "source": [
    "6) 크기는 다르지만 리스트는 치환이 가능하다."
   ]
  },
  {
   "cell_type": "code",
   "execution_count": 127,
   "id": "5a178f8d",
   "metadata": {},
   "outputs": [
    {
     "name": "stdout",
     "output_type": "stream",
     "text": [
      "[1, (100, 101, 102), 4, 5]\n"
     ]
    }
   ],
   "source": [
    "L=[1, 2, 3, 4, 5]\n",
    "L[1:3] = [(100, 101, 102)]\n",
    "print(L)"
   ]
  },
  {
   "cell_type": "markdown",
   "id": "f73aa3bf",
   "metadata": {},
   "source": [
    "7) 위와 같은 이유로 가능하다."
   ]
  },
  {
   "cell_type": "code",
   "execution_count": 128,
   "id": "d65bd419",
   "metadata": {},
   "outputs": [
    {
     "name": "stdout",
     "output_type": "stream",
     "text": [
      "[1, [100, 101, 102], 4, 5]\n"
     ]
    }
   ],
   "source": [
    "L=[1, 2, 3, 4, 5]\n",
    "L[1:3] = [[100, 101, 102]]\n",
    "print(L)"
   ]
  },
  {
   "cell_type": "markdown",
   "id": "3448a16b",
   "metadata": {},
   "source": [
    "8) 위와 같은 이유로 가능하다."
   ]
  },
  {
   "cell_type": "markdown",
   "id": "ec297e6c",
   "metadata": {},
   "source": [
    "### 2. 문자열 S = 'Hello World and Python'에 대해 다음 요구사항에 대한 Python 코드를 제시하시오.\n",
    "* 1) 단어의 순서가 역순으로 되어진 문자열 ('Python and World Hello')을 만들고\n",
    "* 2) 1)의 결과 문자열에 대해 메소드 split과 join을 이용하여 공백을 모두 없엔 문자열 'PythonandWorldHello'을 만드시오."
   ]
  },
  {
   "cell_type": "code",
   "execution_count": 129,
   "id": "9737632a",
   "metadata": {},
   "outputs": [],
   "source": [
    "S = 'Hello World and Python'"
   ]
  },
  {
   "cell_type": "code",
   "execution_count": 130,
   "id": "f921bb57",
   "metadata": {},
   "outputs": [
    {
     "data": {
      "text/plain": [
       "'Python and World Hello'"
      ]
     },
     "execution_count": 130,
     "metadata": {},
     "output_type": "execute_result"
    }
   ],
   "source": [
    "S = S.split()\n",
    "S = S[::-1]\n",
    "s = ''\n",
    "for i in range(len(S)):\n",
    "    s += S[i] + ' '\n",
    "S = s.strip()\n",
    "S"
   ]
  },
  {
   "cell_type": "markdown",
   "id": "b8b2c955",
   "metadata": {},
   "source": [
    "1. split을 한 후 역순으로 바꿔준다.\n",
    "2. for in문을 통해 공백을 만들고 strip을 통해 양 끝 공백을 자른다."
   ]
  },
  {
   "cell_type": "code",
   "execution_count": 131,
   "id": "4ab42f56",
   "metadata": {},
   "outputs": [
    {
     "data": {
      "text/plain": [
       "'PythonandWorldHello'"
      ]
     },
     "execution_count": 131,
     "metadata": {},
     "output_type": "execute_result"
    }
   ],
   "source": [
    "S = S.split()\n",
    "S = ''.join(S)\n",
    "S"
   ]
  },
  {
   "cell_type": "markdown",
   "id": "56824ecf",
   "metadata": {},
   "source": [
    "split을 한 후 join을 이용해 문자열을 모두 붙여준다."
   ]
  },
  {
   "cell_type": "markdown",
   "id": "0218f05b",
   "metadata": {},
   "source": [
    "### 3. 다음 코드를 보고 물음에 답하시오.\n",
    "* a = [1, 2, 3]\n",
    "* b = a * 3\n",
    "* c = [a] * 3\n",
    "* print(b)\n",
    "* print(c)\n",
    "\n",
    "1) 위 코드를 수행한 이후 다음 코드를 수행한 후 b와 c의 내용을 확인하시오.\n",
    "\n",
    "* a[0]=0\n",
    "\n",
    "2) b와 c 객체의 차이는 무엇인가?"
   ]
  },
  {
   "cell_type": "code",
   "execution_count": 132,
   "id": "ee270dce",
   "metadata": {},
   "outputs": [
    {
     "name": "stdout",
     "output_type": "stream",
     "text": [
      "[1, 2, 3, 1, 2, 3, 1, 2, 3]\n",
      "[[1, 2, 3], [1, 2, 3], [1, 2, 3]]\n",
      "\n",
      "[1, 2, 3, 1, 2, 3, 1, 2, 3]\n",
      "[[0, 2, 3], [0, 2, 3], [0, 2, 3]]\n"
     ]
    }
   ],
   "source": [
    "a = [1, 2, 3]\n",
    "b = a * 3\n",
    "c = [a] * 3\n",
    "print(b)\n",
    "print(c)\n",
    "print('')\n",
    "\n",
    "a[0] = 0\n",
    "print(b)\n",
    "print(c)"
   ]
  },
  {
   "cell_type": "markdown",
   "id": "abd2fe94",
   "metadata": {},
   "source": [
    "b는 a의 원소들을 3번 반복하는 객체이며\n",
    "c는 a를 3번 반복한 객체이다.\n",
    "\n",
    "b는 a의 원소만을 반복했지만 c가 반복한 a객체의 원소들은 레퍼런스가 동일하기 때문에 a가 바뀌면서 c도 동일하게 바뀐다."
   ]
  },
  {
   "cell_type": "markdown",
   "id": "df2f036b",
   "metadata": {},
   "source": [
    "### 4. 다음 문자열을 ':'을 기준으로 분리하여 리스트로 만들고 각 문자열의 좌우 공백을 제거하시오 (즉, 문자열 S에서 l을 만들어라)\n",
    "* s = '  first star   :   second star   :    third star  '\n",
    "* l = ['first star', 'second star', 'third star']\n",
    "* 1) for ~ in 문을 이용한 코드를 작성하시오.\n",
    "* 2) 리스트 내포(list comprehension)를 이용한 코드를 작성하시오."
   ]
  },
  {
   "cell_type": "code",
   "execution_count": 133,
   "id": "90bf2432",
   "metadata": {
    "scrolled": true
   },
   "outputs": [
    {
     "name": "stdout",
     "output_type": "stream",
     "text": [
      "['first star', 'second star', 'third star']\n",
      "['first star', 'second star', 'third star']\n"
     ]
    }
   ],
   "source": [
    "s = ' first star : second star : third star '\n",
    "l = s.split(':')\n",
    "for i in range(len(l)):\n",
    "    l[i] = l[i].strip()\n",
    "print(l)\n",
    "\n",
    "s = ' first star : second star : third star '\n",
    "l = s.split(':')\n",
    "l = [l[i].strip() for i in range(len(l))]\n",
    "print(l)"
   ]
  },
  {
   "cell_type": "markdown",
   "id": "f62ff1f0",
   "metadata": {},
   "source": [
    "1. split으로 나눠진 각각의 인덱스를 strip을 통해 정리한다.\n",
    "2. 리스트 내포를 이용해 작성했다."
   ]
  },
  {
   "cell_type": "markdown",
   "id": "d0e21b9c",
   "metadata": {},
   "source": [
    "### 5. 다음과 같이 0보다 큰 정수 리스트 변수 list를 인자로 받는 함수 addall(list)와 addallodd(list)를 for ~ in 리터널과 리스트 내포 방식으로 각각 제시하시오.\n",
    "* 1) addall(list) 함수 (리스트 내의 모든 정수를 더하는 함수로서 해답으로는 for ~ in 리터럴과 리스트 내포 방식으로 각각 제시하시오.)\n",
    "* addall([1])\n",
    "* 1\n",
    "* addall([1, 2, 3, 4, 5, 6, 7, 8, 9])\n",
    "* 45\n",
    "* 2) addallodd(list) 함수 (리스트내의 모든 홀수를 더하는 함수로서 해답으로는 for ~ in 리터럴과 리스트 내포 방식으로 각각 제시하시오.)\n",
    "* addallodd([1])\n",
    "* 1\n",
    "* addallodd([1, 2, 3, 4, 5, 6, 7, 8, 9])\n",
    "* 25\n",
    "* [참고 1]: 리스트 내포 방식으로 addall() 및 addallodd()함수를 만들 때엔 리스트 내포에 의해 생성된 리스트 결과에 대해 내장 함수를 사용하는 방식을 고려해보시오 (주의: 리스트 내포 방식의 addall() 및 addallodd() 함수의 몸체는 단 1줄로 작성되어야 한다.)\n",
    "* [참고 2]: sum() 등의 내장함수 사용 가능함"
   ]
  },
  {
   "cell_type": "code",
   "execution_count": 134,
   "id": "edb07c51",
   "metadata": {
    "scrolled": true
   },
   "outputs": [
    {
     "name": "stdout",
     "output_type": "stream",
     "text": [
      "21\n",
      "9\n"
     ]
    }
   ],
   "source": [
    "def addall(list):\n",
    "    return sum([i for i in list], 0)\n",
    "def addallodd(list):\n",
    "    return sum([i for i in list if (i % 2 == 1)], 0)\n",
    "\n",
    "list = [1, 2, 3, 4, 5, 6]\n",
    "print(addall(list))\n",
    "print(addallodd(list))"
   ]
  },
  {
   "cell_type": "markdown",
   "id": "b43d8614",
   "metadata": {},
   "source": [
    "1. 0보다 큰 리스트를 더하는 함수를 작성한다.\n",
    "2. 홀수 조건문을 추가한 함수를 작성한다."
   ]
  },
  {
   "cell_type": "markdown",
   "id": "390284ab",
   "metadata": {},
   "source": [
    "### 6. 다음 코드를 보고 물음에 답하시오.\n",
    "\n",
    "* L1 = [1, 2, 3]\n",
    "* L2 = [4, 5, 6]\n",
    "* d = {'low':L1, 'high':L2}\n",
    "* e = d\n",
    "* f = d.copy()\n",
    "* print(d)\n",
    "* print(e)\n",
    "* print(f)\n",
    "* print()\n",
    "* d['low'] = [10, 20, 30]\n",
    "* d['high'][1] = 500\n",
    "* print(d)\n",
    "* print(e)\n",
    "* print(f)\n",
    "* 1) 위 코드의 수행 결과 d와 e는 항상 같은 결과를 출력한다. 그 이유는 무엇인가?\n",
    "* 2) 위 코드의 수행 결과 마지막 f의 내용은 다음과 같다. 이 때 'high' 키의 값 내용 중 500이 출력된 이유와 'low' 키의 값 내용 중 [1, 2, 3]이 출력된 이유를 설명하시오 ([hint]: shallow copy 관점에서 설명하시오.)\n",
    "* {'high': [4, 500, 6], 'low': [1, 2, 3]}"
   ]
  },
  {
   "cell_type": "code",
   "execution_count": 135,
   "id": "7e9a8626",
   "metadata": {},
   "outputs": [
    {
     "name": "stdout",
     "output_type": "stream",
     "text": [
      "{'low': [1, 2, 3], 'high': [4, 5, 6]}\n",
      "{'low': [1, 2, 3], 'high': [4, 5, 6]}\n",
      "{'low': [1, 2, 3], 'high': [4, 5, 6]}\n",
      "\n",
      "{'low': [10, 20, 30], 'high': [4, 500, 6]}\n",
      "{'low': [10, 20, 30], 'high': [4, 500, 6]}\n",
      "{'low': [1, 2, 3], 'high': [4, 500, 6]}\n"
     ]
    }
   ],
   "source": [
    "L1 = [1, 2, 3]\n",
    "L2 = [4, 5, 6]\n",
    "d = {'low':L1, 'high':L2}\n",
    "e = d\n",
    "f = d.copy()\n",
    "print(d)\n",
    "print(e)\n",
    "print(f)\n",
    "print()\n",
    "d['low'] = [10, 20, 30]\n",
    "d['high'][1] = 500\n",
    "print(d)\n",
    "print(e)\n",
    "print(f)"
   ]
  },
  {
   "cell_type": "markdown",
   "id": "04e5d142",
   "metadata": {},
   "source": [
    "1. d와 e는 같은 객체를 가리키는 레퍼런스이다.\n",
    "2. f는 d의 얕은 복사이다. low는 d가 가리키는 레퍼런스가 바뀌었다. high는 원소가 바뀌었을 뿐 레퍼런스는 같다. 따라서 high는 바뀐 값을 따른다. 레퍼런스가 달라지면 얕은 복사는 바뀌지않는다."
   ]
  },
  {
   "cell_type": "markdown",
   "id": "fe1d82dc",
   "metadata": {},
   "source": [
    "### 7. 사전 d = {'one':1, 'two':2, 'three':3, 'four':4, 'five':5}가 주어졌을 때 다음 요구사항에 맞는 코드를 제시하시오\n",
    "* [참고]: d.keys(), d.values()를 통해 리스트를 얻어낸 후 리스트가 지니고 있는 sort(cmp=None, key=None, reverse=False)함수를 활용하시오.\n",
    "* 1) 키의 알파벳 오름차순 순서대로 튜플 (키, 값)을 차례대로 출력하시오.\n",
    "* 2) 키의 알파벳 내림차순 순서대로 튜플 (키, 값)을 차례대로 출력하시오.\n",
    "* 3) 값의 오름차순 순서대로 튜플 (키, 값)을 차례대로 출력하시오.\n",
    "* 4) 값의 내림차순 순서대로 튜플 (키, 값)을 차례대로 출력하시오."
   ]
  },
  {
   "cell_type": "code",
   "execution_count": 136,
   "id": "caa12666",
   "metadata": {},
   "outputs": [
    {
     "name": "stdout",
     "output_type": "stream",
     "text": [
      "[('five', 5), ('four', 4), ('one', 1), ('three', 3), ('two', 2)]\n",
      "[('two', 2), ('three', 3), ('one', 1), ('four', 4), ('five', 5)]\n",
      "[('one', 1), ('two', 2), ('three', 3), ('four', 4), ('five', 5)]\n",
      "[('five', 5), ('four', 4), ('three', 3), ('two', 2), ('one', 1)]\n"
     ]
    }
   ],
   "source": [
    "def cmp_each_element(a):\n",
    "    return a[1]\n",
    "\n",
    "d = {'one':1, 'two':2, 'three':3, 'four':4, 'five':5}\n",
    "list = []\n",
    "for (i, j) in d.items():\n",
    "    list.append((i, j))\n",
    "print(sorted(list))\n",
    "print(sorted(list, reverse = True))\n",
    "print(sorted(list, key = cmp_each_element))\n",
    "print(sorted(list, key = cmp_each_element, reverse = True))"
   ]
  },
  {
   "cell_type": "markdown",
   "id": "d68bc9f8",
   "metadata": {},
   "source": [
    "list를 선언한 후 d의 원소들을 append한다.\n",
    "1. sorted를 선언하면 list의 알파벳 오름차순으로 정렬한다.\n",
    "2. reverse = True를 통해 내림차순으로 정렬한다.\n",
    "3. 함수를 통해 키 값을 주고 sorted한다.\n",
    "4. reverse = True를 통해 내림차순으로 정렬한다."
   ]
  }
 ],
 "metadata": {
  "kernelspec": {
   "display_name": "Python 3",
   "language": "python",
   "name": "python3"
  },
  "language_info": {
   "codemirror_mode": {
    "name": "ipython",
    "version": 3
   },
   "file_extension": ".py",
   "mimetype": "text/x-python",
   "name": "python",
   "nbconvert_exporter": "python",
   "pygments_lexer": "ipython3",
   "version": "3.8.8"
  }
 },
 "nbformat": 4,
 "nbformat_minor": 5
}
